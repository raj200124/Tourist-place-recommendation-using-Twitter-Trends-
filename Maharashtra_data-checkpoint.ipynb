{
 "cells": [
  {
   "cell_type": "code",
   "execution_count": 1,
   "metadata": {},
   "outputs": [],
   "source": [
    "import re\n",
    "import pandas as pd \n",
    "import numpy as np \n",
    "import warnings \n",
    "from textblob import TextBlob\n",
    "import matplotlib.pyplot as plt \n",
    "import seaborn as sns\n",
    "warnings.filterwarnings(\"ignore\", category=DeprecationWarning)"
   ]
  },
  {
   "cell_type": "code",
   "execution_count": 2,
   "metadata": {},
   "outputs": [
    {
     "data": {
      "text/html": [
       "<div>\n",
       "<style scoped>\n",
       "    .dataframe tbody tr th:only-of-type {\n",
       "        vertical-align: middle;\n",
       "    }\n",
       "\n",
       "    .dataframe tbody tr th {\n",
       "        vertical-align: top;\n",
       "    }\n",
       "\n",
       "    .dataframe thead th {\n",
       "        text-align: right;\n",
       "    }\n",
       "</style>\n",
       "<table border=\"1\" class=\"dataframe\">\n",
       "  <thead>\n",
       "    <tr style=\"text-align: right;\">\n",
       "      <th></th>\n",
       "      <th>Location</th>\n",
       "      <th>Tweet</th>\n",
       "    </tr>\n",
       "  </thead>\n",
       "  <tbody>\n",
       "    <tr>\n",
       "      <th>0</th>\n",
       "      <td>pune</td>\n",
       "      <td>RT @PriyanKanjilal: The unusually quaint bylan...</td>\n",
       "    </tr>\n",
       "    <tr>\n",
       "      <th>1</th>\n",
       "      <td>pune</td>\n",
       "      <td>The unusually quaint bylanes of Pune, MG Road....</td>\n",
       "    </tr>\n",
       "    <tr>\n",
       "      <th>2</th>\n",
       "      <td>pune</td>\n",
       "      <td>RT @delhitodays: Lockdown has been Imposed in ...</td>\n",
       "    </tr>\n",
       "    <tr>\n",
       "      <th>3</th>\n",
       "      <td>pune</td>\n",
       "      <td>RT @delhitodays: Lockdown has been Imposed in ...</td>\n",
       "    </tr>\n",
       "    <tr>\n",
       "      <th>4</th>\n",
       "      <td>pune</td>\n",
       "      <td>Lockdown has been Imposed in Pune City from 6p...</td>\n",
       "    </tr>\n",
       "  </tbody>\n",
       "</table>\n",
       "</div>"
      ],
      "text/plain": [
       "  Location                                              Tweet\n",
       "0     pune  RT @PriyanKanjilal: The unusually quaint bylan...\n",
       "1     pune  The unusually quaint bylanes of Pune, MG Road....\n",
       "2     pune  RT @delhitodays: Lockdown has been Imposed in ...\n",
       "3     pune  RT @delhitodays: Lockdown has been Imposed in ...\n",
       "4     pune  Lockdown has been Imposed in Pune City from 6p..."
      ]
     },
     "execution_count": 2,
     "metadata": {},
     "output_type": "execute_result"
    }
   ],
   "source": [
    "train  = pd.read_csv(r\"C:\\Users\\Ayush Patel\\Downloads\\maharashtra_data.csv\")\n",
    "train.head()"
   ]
  },
  {
   "cell_type": "code",
   "execution_count": 3,
   "metadata": {},
   "outputs": [],
   "source": [
    "def remove_pattern(input_txt, pattern):\n",
    "    r = re.findall(pattern, input_txt)\n",
    "    for i in r:\n",
    "        input_txt = re.sub(i, '', input_txt)\n",
    "        \n",
    "    return input_txt    "
   ]
  },
  {
   "cell_type": "code",
   "execution_count": 4,
   "metadata": {},
   "outputs": [
    {
     "data": {
      "text/html": [
       "<div>\n",
       "<style scoped>\n",
       "    .dataframe tbody tr th:only-of-type {\n",
       "        vertical-align: middle;\n",
       "    }\n",
       "\n",
       "    .dataframe tbody tr th {\n",
       "        vertical-align: top;\n",
       "    }\n",
       "\n",
       "    .dataframe thead th {\n",
       "        text-align: right;\n",
       "    }\n",
       "</style>\n",
       "<table border=\"1\" class=\"dataframe\">\n",
       "  <thead>\n",
       "    <tr style=\"text-align: right;\">\n",
       "      <th></th>\n",
       "      <th>Location</th>\n",
       "      <th>Tweet</th>\n",
       "      <th>tidy_tweet</th>\n",
       "    </tr>\n",
       "  </thead>\n",
       "  <tbody>\n",
       "    <tr>\n",
       "      <th>0</th>\n",
       "      <td>pune</td>\n",
       "      <td>RT @PriyanKanjilal: The unusually quaint bylan...</td>\n",
       "      <td>unusually quaint bylanes Pune Road #Pune #pune...</td>\n",
       "    </tr>\n",
       "    <tr>\n",
       "      <th>1</th>\n",
       "      <td>pune</td>\n",
       "      <td>The unusually quaint bylanes of Pune, MG Road....</td>\n",
       "      <td>unusually quaint bylanes Pune Road #Pune #pune...</td>\n",
       "    </tr>\n",
       "    <tr>\n",
       "      <th>2</th>\n",
       "      <td>pune</td>\n",
       "      <td>RT @delhitodays: Lockdown has been Imposed in ...</td>\n",
       "      <td>Lockdown been Imposed Pune City from reduce fl...</td>\n",
       "    </tr>\n",
       "    <tr>\n",
       "      <th>3</th>\n",
       "      <td>pune</td>\n",
       "      <td>RT @delhitodays: Lockdown has been Imposed in ...</td>\n",
       "      <td>Lockdown been Imposed Pune City from reduce fl...</td>\n",
       "    </tr>\n",
       "    <tr>\n",
       "      <th>4</th>\n",
       "      <td>pune</td>\n",
       "      <td>Lockdown has been Imposed in Pune City from 6p...</td>\n",
       "      <td>Lockdown been Imposed Pune City from reduce fl...</td>\n",
       "    </tr>\n",
       "  </tbody>\n",
       "</table>\n",
       "</div>"
      ],
      "text/plain": [
       "  Location                                              Tweet  \\\n",
       "0     pune  RT @PriyanKanjilal: The unusually quaint bylan...   \n",
       "1     pune  The unusually quaint bylanes of Pune, MG Road....   \n",
       "2     pune  RT @delhitodays: Lockdown has been Imposed in ...   \n",
       "3     pune  RT @delhitodays: Lockdown has been Imposed in ...   \n",
       "4     pune  Lockdown has been Imposed in Pune City from 6p...   \n",
       "\n",
       "                                          tidy_tweet  \n",
       "0  unusually quaint bylanes Pune Road #Pune #pune...  \n",
       "1  unusually quaint bylanes Pune Road #Pune #pune...  \n",
       "2  Lockdown been Imposed Pune City from reduce fl...  \n",
       "3  Lockdown been Imposed Pune City from reduce fl...  \n",
       "4  Lockdown been Imposed Pune City from reduce fl...  "
      ]
     },
     "execution_count": 4,
     "metadata": {},
     "output_type": "execute_result"
    }
   ],
   "source": [
    "train['tidy_tweet'] = np.vectorize(remove_pattern)(train['Tweet'], \"@[\\w]*\")\n",
    "train['tidy_tweet'] = train['tidy_tweet'].str.replace(\"[^a-zA-Z#]\", \" \")\n",
    "train['tidy_tweet'] = train['tidy_tweet'].apply(lambda x: ' '.join([w for w in x.split() if len(w)>3]))\n",
    "train.head()"
   ]
  },
  {
   "cell_type": "code",
   "execution_count": 5,
   "metadata": {},
   "outputs": [
    {
     "data": {
      "text/html": [
       "<div>\n",
       "<style scoped>\n",
       "    .dataframe tbody tr th:only-of-type {\n",
       "        vertical-align: middle;\n",
       "    }\n",
       "\n",
       "    .dataframe tbody tr th {\n",
       "        vertical-align: top;\n",
       "    }\n",
       "\n",
       "    .dataframe thead th {\n",
       "        text-align: right;\n",
       "    }\n",
       "</style>\n",
       "<table border=\"1\" class=\"dataframe\">\n",
       "  <thead>\n",
       "    <tr style=\"text-align: right;\">\n",
       "      <th></th>\n",
       "      <th>polarity</th>\n",
       "      <th>tweet</th>\n",
       "    </tr>\n",
       "  </thead>\n",
       "  <tbody>\n",
       "    <tr>\n",
       "      <th>0</th>\n",
       "      <td>0.2</td>\n",
       "      <td>unusually quaint bylanes Pune Road #Pune #pune...</td>\n",
       "    </tr>\n",
       "    <tr>\n",
       "      <th>1</th>\n",
       "      <td>0.2</td>\n",
       "      <td>unusually quaint bylanes Pune Road #Pune #pune...</td>\n",
       "    </tr>\n",
       "    <tr>\n",
       "      <th>2</th>\n",
       "      <td>0.0</td>\n",
       "      <td>Lockdown been Imposed Pune City from reduce fl...</td>\n",
       "    </tr>\n",
       "    <tr>\n",
       "      <th>3</th>\n",
       "      <td>0.0</td>\n",
       "      <td>Lockdown been Imposed Pune City from reduce fl...</td>\n",
       "    </tr>\n",
       "    <tr>\n",
       "      <th>4</th>\n",
       "      <td>0.0</td>\n",
       "      <td>Lockdown been Imposed Pune City from reduce fl...</td>\n",
       "    </tr>\n",
       "  </tbody>\n",
       "</table>\n",
       "</div>"
      ],
      "text/plain": [
       "   polarity                                              tweet\n",
       "0       0.2  unusually quaint bylanes Pune Road #Pune #pune...\n",
       "1       0.2  unusually quaint bylanes Pune Road #Pune #pune...\n",
       "2       0.0  Lockdown been Imposed Pune City from reduce fl...\n",
       "3       0.0  Lockdown been Imposed Pune City from reduce fl...\n",
       "4       0.0  Lockdown been Imposed Pune City from reduce fl..."
      ]
     },
     "execution_count": 5,
     "metadata": {},
     "output_type": "execute_result"
    }
   ],
   "source": [
    "sentiment_objects = [TextBlob(text) for text in train['tidy_tweet']]\n",
    "sentiment_objects[0].polarity, sentiment_objects[0]\n",
    "sentiment_values = [[text.sentiment.polarity, str(text)] for text in sentiment_objects]\n",
    "\n",
    "sentiment_values[0]\n",
    "data = pd.DataFrame(data=sentiment_values, columns=[\"polarity\", \"tweet\"])\n",
    "data.head()"
   ]
  },
  {
   "cell_type": "code",
   "execution_count": 6,
   "metadata": {},
   "outputs": [
    {
     "name": "stdout",
     "output_type": "stream",
     "text": [
      "     polarity                                              tweet Location\n",
      "0       0.200  unusually quaint bylanes Pune Road #Pune #pune...     pune\n",
      "1       0.200  unusually quaint bylanes Pune Road #Pune #pune...     pune\n",
      "2       0.000  Lockdown been Imposed Pune City from reduce fl...     pune\n",
      "3       0.000  Lockdown been Imposed Pune City from reduce fl...     pune\n",
      "4       0.000  Lockdown been Imposed Pune City from reduce fl...     pune\n",
      "..        ...                                                ...      ...\n",
      "319     0.375  small flocks #longtailedfinch #featheryfriends...   mumbai\n",
      "320     0.375  small flocks #longtailedfinch #featheryfriends...   mumbai\n",
      "321     0.550  #Throwback kind Holi celebrations Wishing safe...   mumbai\n",
      "322     0.550  #Throwback kind Holi celebrations Wishing safe...   mumbai\n",
      "323     0.000  #sanjaygandhinationalpark Morning walk crowd S...   mumbai\n",
      "\n",
      "[324 rows x 3 columns]\n"
     ]
    }
   ],
   "source": [
    "data['Location']=[loc for loc in train['Location']]\n",
    "print(data)\n",
    "data.to_csv(r'C:\\Users\\Ayush Patel\\.spyder-py3\\maharashtrasentiment.csv')"
   ]
  },
  {
   "cell_type": "code",
   "execution_count": 7,
   "metadata": {},
   "outputs": [
    {
     "data": {
      "text/html": [
       "<div>\n",
       "<style scoped>\n",
       "    .dataframe tbody tr th:only-of-type {\n",
       "        vertical-align: middle;\n",
       "    }\n",
       "\n",
       "    .dataframe tbody tr th {\n",
       "        vertical-align: top;\n",
       "    }\n",
       "\n",
       "    .dataframe thead th {\n",
       "        text-align: right;\n",
       "    }\n",
       "</style>\n",
       "<table border=\"1\" class=\"dataframe\">\n",
       "  <thead>\n",
       "    <tr style=\"text-align: right;\">\n",
       "      <th></th>\n",
       "      <th>Unnamed: 0</th>\n",
       "      <th>polarity</th>\n",
       "      <th>tweet</th>\n",
       "      <th>Location</th>\n",
       "    </tr>\n",
       "  </thead>\n",
       "  <tbody>\n",
       "    <tr>\n",
       "      <th>0</th>\n",
       "      <td>0</td>\n",
       "      <td>0.2</td>\n",
       "      <td>unusually quaint bylanes Pune Road #Pune #pune...</td>\n",
       "      <td>pune</td>\n",
       "    </tr>\n",
       "    <tr>\n",
       "      <th>1</th>\n",
       "      <td>1</td>\n",
       "      <td>0.2</td>\n",
       "      <td>unusually quaint bylanes Pune Road #Pune #pune...</td>\n",
       "      <td>pune</td>\n",
       "    </tr>\n",
       "    <tr>\n",
       "      <th>2</th>\n",
       "      <td>2</td>\n",
       "      <td>0.0</td>\n",
       "      <td>Lockdown been Imposed Pune City from reduce fl...</td>\n",
       "      <td>pune</td>\n",
       "    </tr>\n",
       "    <tr>\n",
       "      <th>3</th>\n",
       "      <td>3</td>\n",
       "      <td>0.0</td>\n",
       "      <td>Lockdown been Imposed Pune City from reduce fl...</td>\n",
       "      <td>pune</td>\n",
       "    </tr>\n",
       "    <tr>\n",
       "      <th>4</th>\n",
       "      <td>4</td>\n",
       "      <td>0.0</td>\n",
       "      <td>Lockdown been Imposed Pune City from reduce fl...</td>\n",
       "      <td>pune</td>\n",
       "    </tr>\n",
       "  </tbody>\n",
       "</table>\n",
       "</div>"
      ],
      "text/plain": [
       "   Unnamed: 0  polarity                                              tweet  \\\n",
       "0           0       0.2  unusually quaint bylanes Pune Road #Pune #pune...   \n",
       "1           1       0.2  unusually quaint bylanes Pune Road #Pune #pune...   \n",
       "2           2       0.0  Lockdown been Imposed Pune City from reduce fl...   \n",
       "3           3       0.0  Lockdown been Imposed Pune City from reduce fl...   \n",
       "4           4       0.0  Lockdown been Imposed Pune City from reduce fl...   \n",
       "\n",
       "  Location  \n",
       "0     pune  \n",
       "1     pune  \n",
       "2     pune  \n",
       "3     pune  \n",
       "4     pune  "
      ]
     },
     "execution_count": 7,
     "metadata": {},
     "output_type": "execute_result"
    }
   ],
   "source": [
    "df=pd.read_csv(r'C:\\Users\\Ayush Patel\\.spyder-py3\\maharashtrasentiment.csv')\n",
    "df.head()"
   ]
  },
  {
   "cell_type": "code",
   "execution_count": 8,
   "metadata": {},
   "outputs": [
    {
     "data": {
      "text/html": [
       "<div>\n",
       "<style scoped>\n",
       "    .dataframe tbody tr th:only-of-type {\n",
       "        vertical-align: middle;\n",
       "    }\n",
       "\n",
       "    .dataframe tbody tr th {\n",
       "        vertical-align: top;\n",
       "    }\n",
       "\n",
       "    .dataframe thead th {\n",
       "        text-align: right;\n",
       "    }\n",
       "</style>\n",
       "<table border=\"1\" class=\"dataframe\">\n",
       "  <thead>\n",
       "    <tr style=\"text-align: right;\">\n",
       "      <th></th>\n",
       "      <th>Unnamed: 0</th>\n",
       "      <th>polarity</th>\n",
       "      <th>tweet</th>\n",
       "      <th>Location</th>\n",
       "    </tr>\n",
       "  </thead>\n",
       "  <tbody>\n",
       "    <tr>\n",
       "      <th>0</th>\n",
       "      <td>0</td>\n",
       "      <td>0.2</td>\n",
       "      <td>unusually quaint bylanes Pune Road #Pune #pune...</td>\n",
       "      <td>pune</td>\n",
       "    </tr>\n",
       "    <tr>\n",
       "      <th>1</th>\n",
       "      <td>1</td>\n",
       "      <td>0.2</td>\n",
       "      <td>unusually quaint bylanes Pune Road #Pune #pune...</td>\n",
       "      <td>pune</td>\n",
       "    </tr>\n",
       "    <tr>\n",
       "      <th>2</th>\n",
       "      <td>2</td>\n",
       "      <td>0.0</td>\n",
       "      <td>Lockdown been Imposed Pune City from reduce fl...</td>\n",
       "      <td>pune</td>\n",
       "    </tr>\n",
       "    <tr>\n",
       "      <th>3</th>\n",
       "      <td>3</td>\n",
       "      <td>0.0</td>\n",
       "      <td>Lockdown been Imposed Pune City from reduce fl...</td>\n",
       "      <td>pune</td>\n",
       "    </tr>\n",
       "    <tr>\n",
       "      <th>4</th>\n",
       "      <td>4</td>\n",
       "      <td>0.0</td>\n",
       "      <td>Lockdown been Imposed Pune City from reduce fl...</td>\n",
       "      <td>pune</td>\n",
       "    </tr>\n",
       "  </tbody>\n",
       "</table>\n",
       "</div>"
      ],
      "text/plain": [
       "   Unnamed: 0  polarity                                              tweet  \\\n",
       "0           0       0.2  unusually quaint bylanes Pune Road #Pune #pune...   \n",
       "1           1       0.2  unusually quaint bylanes Pune Road #Pune #pune...   \n",
       "2           2       0.0  Lockdown been Imposed Pune City from reduce fl...   \n",
       "3           3       0.0  Lockdown been Imposed Pune City from reduce fl...   \n",
       "4           4       0.0  Lockdown been Imposed Pune City from reduce fl...   \n",
       "\n",
       "  Location  \n",
       "0     pune  \n",
       "1     pune  \n",
       "2     pune  \n",
       "3     pune  \n",
       "4     pune  "
      ]
     },
     "execution_count": 8,
     "metadata": {},
     "output_type": "execute_result"
    }
   ],
   "source": [
    "df1=df[df['polarity']>=0]\n",
    "df1.head()"
   ]
  },
  {
   "cell_type": "code",
   "execution_count": 9,
   "metadata": {},
   "outputs": [
    {
     "data": {
      "text/plain": [
       "0        0\n",
       "1        1\n",
       "2        2\n",
       "3        3\n",
       "4        4\n",
       "      ... \n",
       "319    319\n",
       "320    320\n",
       "321    321\n",
       "322    322\n",
       "323    323\n",
       "Name: Unnamed: 0, Length: 324, dtype: int64"
      ]
     },
     "execution_count": 9,
     "metadata": {},
     "output_type": "execute_result"
    }
   ],
   "source": [
    "df.pop('Unnamed: 0')"
   ]
  },
  {
   "cell_type": "code",
   "execution_count": 10,
   "metadata": {},
   "outputs": [
    {
     "data": {
      "text/html": [
       "<div>\n",
       "<style scoped>\n",
       "    .dataframe tbody tr th:only-of-type {\n",
       "        vertical-align: middle;\n",
       "    }\n",
       "\n",
       "    .dataframe tbody tr th {\n",
       "        vertical-align: top;\n",
       "    }\n",
       "\n",
       "    .dataframe thead th {\n",
       "        text-align: right;\n",
       "    }\n",
       "</style>\n",
       "<table border=\"1\" class=\"dataframe\">\n",
       "  <thead>\n",
       "    <tr style=\"text-align: right;\">\n",
       "      <th></th>\n",
       "      <th>polarity</th>\n",
       "      <th>tweet</th>\n",
       "      <th>Location</th>\n",
       "    </tr>\n",
       "  </thead>\n",
       "  <tbody>\n",
       "    <tr>\n",
       "      <th>0</th>\n",
       "      <td>0.200</td>\n",
       "      <td>unusually quaint bylanes Pune Road #Pune #pune...</td>\n",
       "      <td>pune</td>\n",
       "    </tr>\n",
       "    <tr>\n",
       "      <th>1</th>\n",
       "      <td>0.200</td>\n",
       "      <td>unusually quaint bylanes Pune Road #Pune #pune...</td>\n",
       "      <td>pune</td>\n",
       "    </tr>\n",
       "    <tr>\n",
       "      <th>2</th>\n",
       "      <td>0.000</td>\n",
       "      <td>Lockdown been Imposed Pune City from reduce fl...</td>\n",
       "      <td>pune</td>\n",
       "    </tr>\n",
       "    <tr>\n",
       "      <th>3</th>\n",
       "      <td>0.000</td>\n",
       "      <td>Lockdown been Imposed Pune City from reduce fl...</td>\n",
       "      <td>pune</td>\n",
       "    </tr>\n",
       "    <tr>\n",
       "      <th>4</th>\n",
       "      <td>0.000</td>\n",
       "      <td>Lockdown been Imposed Pune City from reduce fl...</td>\n",
       "      <td>pune</td>\n",
       "    </tr>\n",
       "    <tr>\n",
       "      <th>...</th>\n",
       "      <td>...</td>\n",
       "      <td>...</td>\n",
       "      <td>...</td>\n",
       "    </tr>\n",
       "    <tr>\n",
       "      <th>319</th>\n",
       "      <td>0.375</td>\n",
       "      <td>small flocks #longtailedfinch #featheryfriends...</td>\n",
       "      <td>mumbai</td>\n",
       "    </tr>\n",
       "    <tr>\n",
       "      <th>320</th>\n",
       "      <td>0.375</td>\n",
       "      <td>small flocks #longtailedfinch #featheryfriends...</td>\n",
       "      <td>mumbai</td>\n",
       "    </tr>\n",
       "    <tr>\n",
       "      <th>321</th>\n",
       "      <td>0.550</td>\n",
       "      <td>#Throwback kind Holi celebrations Wishing safe...</td>\n",
       "      <td>mumbai</td>\n",
       "    </tr>\n",
       "    <tr>\n",
       "      <th>322</th>\n",
       "      <td>0.550</td>\n",
       "      <td>#Throwback kind Holi celebrations Wishing safe...</td>\n",
       "      <td>mumbai</td>\n",
       "    </tr>\n",
       "    <tr>\n",
       "      <th>323</th>\n",
       "      <td>0.000</td>\n",
       "      <td>#sanjaygandhinationalpark Morning walk crowd S...</td>\n",
       "      <td>mumbai</td>\n",
       "    </tr>\n",
       "  </tbody>\n",
       "</table>\n",
       "<p>324 rows × 3 columns</p>\n",
       "</div>"
      ],
      "text/plain": [
       "     polarity                                              tweet Location\n",
       "0       0.200  unusually quaint bylanes Pune Road #Pune #pune...     pune\n",
       "1       0.200  unusually quaint bylanes Pune Road #Pune #pune...     pune\n",
       "2       0.000  Lockdown been Imposed Pune City from reduce fl...     pune\n",
       "3       0.000  Lockdown been Imposed Pune City from reduce fl...     pune\n",
       "4       0.000  Lockdown been Imposed Pune City from reduce fl...     pune\n",
       "..        ...                                                ...      ...\n",
       "319     0.375  small flocks #longtailedfinch #featheryfriends...   mumbai\n",
       "320     0.375  small flocks #longtailedfinch #featheryfriends...   mumbai\n",
       "321     0.550  #Throwback kind Holi celebrations Wishing safe...   mumbai\n",
       "322     0.550  #Throwback kind Holi celebrations Wishing safe...   mumbai\n",
       "323     0.000  #sanjaygandhinationalpark Morning walk crowd S...   mumbai\n",
       "\n",
       "[324 rows x 3 columns]"
      ]
     },
     "execution_count": 10,
     "metadata": {},
     "output_type": "execute_result"
    }
   ],
   "source": [
    "df"
   ]
  },
  {
   "cell_type": "code",
   "execution_count": 11,
   "metadata": {},
   "outputs": [
    {
     "data": {
      "text/plain": [
       "Text(0.5, 1.0, 'Percentage of tweet on specific location')"
      ]
     },
     "execution_count": 11,
     "metadata": {},
     "output_type": "execute_result"
    },
    {
     "data": {
      "image/png": "[encoded data removed]",
      "text/plain": [
       "<Figure size 720x504 with 1 Axes>"
      ]
     },
     "metadata": {},
     "output_type": "display_data"
    }
   ],
   "source": [
    "df1['Location'].value_counts().plot(kind='pie', fontsize=14, autopct='%3.1f%%', \n",
    "                                               figsize=(10,7), shadow=True, startangle=135, legend=True, cmap='Oranges')\n",
    "\n",
    "\n",
    "plt.title('Percentage of tweet on specific location')"
   ]
  },
  {
   "cell_type": "code",
   "execution_count": 12,
   "metadata": {},
   "outputs": [
    {
     "name": "stderr",
     "output_type": "stream",
     "text": [
      "D:\\anaconda\\lib\\site-packages\\seaborn\\_decorators.py:36: FutureWarning: Pass the following variable as a keyword arg: x. From version 0.12, the only valid positional argument will be `data`, and passing other arguments without an explicit keyword will result in an error or misinterpretation.\n",
      "  warnings.warn(\n"
     ]
    },
    {
     "data": {
      "text/plain": [
       "(array([  0.,  20.,  40.,  60.,  80., 100., 120., 140., 160.]),\n",
       " [Text(0, 0, ''),\n",
       "  Text(0, 0, ''),\n",
       "  Text(0, 0, ''),\n",
       "  Text(0, 0, ''),\n",
       "  Text(0, 0, ''),\n",
       "  Text(0, 0, ''),\n",
       "  Text(0, 0, ''),\n",
       "  Text(0, 0, ''),\n",
       "  Text(0, 0, '')])"
      ]
     },
     "execution_count": 12,
     "metadata": {},
     "output_type": "execute_result"
    },
    {
     "data": {
      "image/png": "[encoded data removed]",
      "text/plain": [
       "<Figure size 1080x360 with 1 Axes>"
      ]
     },
     "metadata": {
      "needs_background": "light"
     },
     "output_type": "display_data"
    }
   ],
   "source": [
    "plt.figure(figsize=(15,5))\n",
    "sns.countplot('Location', data = df)\n",
    "plt.title(\"Number of Tweet on specific location\",fontsize=18,fontweight=\"bold\")\n",
    "plt.ylabel(\"Tweet\", size = 25)\n",
    "plt.xlabel(\"Places\", size = 25)\n",
    "plt.xticks(size = 20)\n",
    "plt.yticks(size = 20)"
   ]
  },
  {
   "cell_type": "code",
   "execution_count": 13,
   "metadata": {},
   "outputs": [
    {
     "data": {
      "image/png": "[encoded data removed]",
      "text/plain": [
       "<Figure size 1296x720 with 1 Axes>"
      ]
     },
     "metadata": {
      "needs_background": "light"
     },
     "output_type": "display_data"
    }
   ],
   "source": [
    "plt.figure(figsize = (18,10))\n",
    "sns.countplot(x='Location',data=df, palette='cool')\n",
    "plt.title(\"Maharashtra \",fontsize=20)\n",
    "plt.xticks(rotation=50)\n",
    "plt.xlabel(\"Places\",fontsize=15)\n",
    "plt.ylabel(\"No of Tweet\",fontsize=15)\n",
    "plt.show()"
   ]
  },
  {
   "cell_type": "code",
   "execution_count": null,
   "metadata": {},
   "outputs": [],
   "source": []
  }
 ],
 "metadata": {
  "kernelspec": {
   "display_name": "Python 3",
   "language": "python",
   "name": "python3"
  },
  "language_info": {
   "codemirror_mode": {
    "name": "ipython",
    "version": 3
   },
   "file_extension": ".py",
   "mimetype": "text/x-python",
   "name": "python",
   "nbconvert_exporter": "python",
   "pygments_lexer": "ipython3",
   "version": "3.8.5"
  }
 },
 "nbformat": 4,
 "nbformat_minor": 4
}

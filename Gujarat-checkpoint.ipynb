{
 "cells": [
  {
   "cell_type": "code",
   "execution_count": 18,
   "metadata": {},
   "outputs": [],
   "source": []
  },
  {
   "cell_type": "code",
   "execution_count": 19,
   "metadata": {},
   "outputs": [
    {
     "data": {
      "text/html": [
       "<div>\n",
       "<style scoped>\n",
       "    .dataframe tbody tr th:only-of-type {\n",
       "        vertical-align: middle;\n",
       "    }\n",
       "\n",
       "    .dataframe tbody tr th {\n",
       "        vertical-align: top;\n",
       "    }\n",
       "\n",
       "    .dataframe thead th {\n",
       "        text-align: right;\n",
       "    }\n",
       "</style>\n",
       "<table border=\"1\" class=\"dataframe\">\n",
       "  <thead>\n",
       "    <tr style=\"text-align: right;\">\n",
       "      <th></th>\n",
       "      <th>Location</th>\n",
       "      <th>Tweet</th>\n",
       "      <th>tidy_tweet</th>\n",
       "    </tr>\n",
       "  </thead>\n",
       "  <tbody>\n",
       "    <tr>\n",
       "      <th>0</th>\n",
       "      <td>sasangir</td>\n",
       "      <td>#girnationalpark #girsafaribooking #girlionsaf...</td>\n",
       "      <td>#girnationalpark #girsafaribooking #girlionsaf...</td>\n",
       "    </tr>\n",
       "    <tr>\n",
       "      <th>1</th>\n",
       "      <td>sasangir</td>\n",
       "      <td>RT @BigCatsWildlife: 🔊 Sound up🔝😳😬🦁.\\r\\nAn Asi...</td>\n",
       "      <td>Sound Asiatic #Lioness rejecting young Asiatic...</td>\n",
       "    </tr>\n",
       "    <tr>\n",
       "      <th>2</th>\n",
       "      <td>sasangir</td>\n",
       "      <td>World Animal Protection Welcomes Corporates Em...</td>\n",
       "      <td>World Animal Protection Welcomes Corporates Em...</td>\n",
       "    </tr>\n",
       "    <tr>\n",
       "      <th>3</th>\n",
       "      <td>sasangir</td>\n",
       "      <td>#girlionsafari #girnationalpark #girsafaribook...</td>\n",
       "      <td>#girlionsafari #girnationalpark #girsafaribook...</td>\n",
       "    </tr>\n",
       "    <tr>\n",
       "      <th>4</th>\n",
       "      <td>sasangir</td>\n",
       "      <td>#girnationalpark #girsafaribooking \\r\\nThe Gir...</td>\n",
       "      <td>#girnationalpark #girsafaribooking Night that ...</td>\n",
       "    </tr>\n",
       "  </tbody>\n",
       "</table>\n",
       "</div>"
      ],
      "text/plain": [
       "   Location                                              Tweet  \\\n",
       "0  sasangir  #girnationalpark #girsafaribooking #girlionsaf...   \n",
       "1  sasangir  RT @BigCatsWildlife: 🔊 Sound up🔝😳😬🦁.\\r\\nAn Asi...   \n",
       "2  sasangir  World Animal Protection Welcomes Corporates Em...   \n",
       "3  sasangir  #girlionsafari #girnationalpark #girsafaribook...   \n",
       "4  sasangir  #girnationalpark #girsafaribooking \\r\\nThe Gir...   \n",
       "\n",
       "                                          tidy_tweet  \n",
       "0  #girnationalpark #girsafaribooking #girlionsaf...  \n",
       "1  Sound Asiatic #Lioness rejecting young Asiatic...  \n",
       "2  World Animal Protection Welcomes Corporates Em...  \n",
       "3  #girlionsafari #girnationalpark #girsafaribook...  \n",
       "4  #girnationalpark #girsafaribooking Night that ...  "
      ]
     },
     "execution_count": 19,
     "metadata": {},
     "output_type": "execute_result"
    }
   ],
   "source": [
    "train['tidy_tweet'] = np.vectorize(remove_pattern)(train['Tweet'], \"@[\\w]*\")\n",
    "train['tidy_tweet'] = train['tidy_tweet'].str.replace(\"[^a-zA-Z#]\", \" \")\n",
    "train['tidy_tweet'] = train['tidy_tweet'].apply(lambda x: ' '.join([w for w in x.split() if len(w)>3]))\n",
    "train.head()"
   ]
  },
  {
   "cell_type": "markdown",
   "metadata": {},
   "source": [
    "# sentiment_objects = [TextBlob(text) for text in train['tidy_tweet']]\n",
    "sentiment_objects[0].polarity, sentiment_objects[0]\n",
    "sentiment_values = [[text.sentiment.polarity, str(text)] for text in sentiment_objects]\n",
    "sentiment_values[0]\n",
    "data = pd.DataFrame(data=sentiment_values, columns=[\"polarity\", \"tweet\"])\n",
    "data.head()\n"
   ]
  },
  {
   "cell_type": "code",
   "execution_count": 8,
   "metadata": {},
   "outputs": [
    {
     "name": "stdout",
     "output_type": "stream",
     "text": [
      "     polarity                                              tweet  Location\n",
      "0    0.000000  #girnationalpark #girsafaribooking #girlionsaf...  sasangir\n",
      "1    0.166667  Sound Asiatic #Lioness rejecting young Asiatic...  sasangir\n",
      "2    0.375000  World Animal Protection Welcomes Corporates Em...  sasangir\n",
      "3    0.000000  #girlionsafari #girnationalpark #girsafaribook...  sasangir\n",
      "4    0.000000  #girnationalpark #girsafaribooking Night that ...  sasangir\n",
      "..        ...                                                ...       ...\n",
      "306  0.000000  Shivrajpur Beach Gujarat Blue Flag Certified B...    dwarka\n",
      "307  0.000000  Shivrajpur Beach Gujarat Blue Flag Certified B...    dwarka\n",
      "308  0.000000  Shivrajpur Beach Gujarat Blue Flag Certified B...    dwarka\n",
      "309  0.000000  Shivrajpur Beach Gujarat Blue Flag Certified B...    dwarka\n",
      "310  0.000000  Shivrajpur Beach Gujarat Blue Flag Certified B...    dwarka\n",
      "\n",
      "[311 rows x 3 columns]\n"
     ]
    }
   ],
   "source": [
    "data['Location']=[loc for loc in train['Location']]\n",
    "print(data)\n",
    "data.to_csv(r'C:\\Users\\Ayush Patel\\.spyder-py3\\gujaratsentiment.csv')"
   ]
  },
  {
   "cell_type": "code",
   "execution_count": 3,
   "metadata": {},
   "outputs": [
    {
     "data": {
      "text/html": [
       "<div>\n",
       "<style scoped>\n",
       "    .dataframe tbody tr th:only-of-type {\n",
       "        vertical-align: middle;\n",
       "    }\n",
       "\n",
       "    .dataframe tbody tr th {\n",
       "        vertical-align: top;\n",
       "    }\n",
       "\n",
       "    .dataframe thead th {\n",
       "        text-align: right;\n",
       "    }\n",
       "</style>\n",
       "<table border=\"1\" class=\"dataframe\">\n",
       "  <thead>\n",
       "    <tr style=\"text-align: right;\">\n",
       "      <th></th>\n",
       "      <th>Location</th>\n",
       "      <th>Tweet</th>\n",
       "    </tr>\n",
       "  </thead>\n",
       "  <tbody>\n",
       "    <tr>\n",
       "      <th>0</th>\n",
       "      <td>sasangir</td>\n",
       "      <td>#girnationalpark #girsafaribooking #girlionsaf...</td>\n",
       "    </tr>\n",
       "    <tr>\n",
       "      <th>1</th>\n",
       "      <td>sasangir</td>\n",
       "      <td>RT @BigCatsWildlife: 🔊 Sound up🔝😳😬🦁.\\r\\nAn Asi...</td>\n",
       "    </tr>\n",
       "    <tr>\n",
       "      <th>2</th>\n",
       "      <td>sasangir</td>\n",
       "      <td>World Animal Protection Welcomes Corporates Em...</td>\n",
       "    </tr>\n",
       "    <tr>\n",
       "      <th>3</th>\n",
       "      <td>sasangir</td>\n",
       "      <td>#girlionsafari #girnationalpark #girsafaribook...</td>\n",
       "    </tr>\n",
       "    <tr>\n",
       "      <th>4</th>\n",
       "      <td>sasangir</td>\n",
       "      <td>#girnationalpark #girsafaribooking \\r\\nThe Gir...</td>\n",
       "    </tr>\n",
       "  </tbody>\n",
       "</table>\n",
       "</div>"
      ],
      "text/plain": [
       "   Location                                              Tweet\n",
       "0  sasangir  #girnationalpark #girsafaribooking #girlionsaf...\n",
       "1  sasangir  RT @BigCatsWildlife: 🔊 Sound up🔝😳😬🦁.\\r\\nAn Asi...\n",
       "2  sasangir  World Animal Protection Welcomes Corporates Em...\n",
       "3  sasangir  #girlionsafari #girnationalpark #girsafaribook...\n",
       "4  sasangir  #girnationalpark #girsafaribooking \\r\\nThe Gir..."
      ]
     },
     "execution_count": 3,
     "metadata": {},
     "output_type": "execute_result"
    }
   ],
   "source": [
    "train  = pd.read_csv(r\"C:\\Users\\Ayush Patel\\Downloads\\data2.csv\")\n",
    "train.head()"
   ]
  },
  {
   "cell_type": "code",
   "execution_count": 10,
   "metadata": {},
   "outputs": [
    {
     "data": {
      "text/html": [
       "<div>\n",
       "<style scoped>\n",
       "    .dataframe tbody tr th:only-of-type {\n",
       "        vertical-align: middle;\n",
       "    }\n",
       "\n",
       "    .dataframe tbody tr th {\n",
       "        vertical-align: top;\n",
       "    }\n",
       "\n",
       "    .dataframe thead th {\n",
       "        text-align: right;\n",
       "    }\n",
       "</style>\n",
       "<table border=\"1\" class=\"dataframe\">\n",
       "  <thead>\n",
       "    <tr style=\"text-align: right;\">\n",
       "      <th></th>\n",
       "      <th>Unnamed: 0</th>\n",
       "      <th>polarity</th>\n",
       "      <th>tweet</th>\n",
       "      <th>Location</th>\n",
       "    </tr>\n",
       "  </thead>\n",
       "  <tbody>\n",
       "    <tr>\n",
       "      <th>0</th>\n",
       "      <td>0</td>\n",
       "      <td>0.000000</td>\n",
       "      <td>#girnationalpark #girsafaribooking #girlionsaf...</td>\n",
       "      <td>sasangir</td>\n",
       "    </tr>\n",
       "    <tr>\n",
       "      <th>1</th>\n",
       "      <td>1</td>\n",
       "      <td>0.166667</td>\n",
       "      <td>Sound Asiatic #Lioness rejecting young Asiatic...</td>\n",
       "      <td>sasangir</td>\n",
       "    </tr>\n",
       "    <tr>\n",
       "      <th>2</th>\n",
       "      <td>2</td>\n",
       "      <td>0.375000</td>\n",
       "      <td>World Animal Protection Welcomes Corporates Em...</td>\n",
       "      <td>sasangir</td>\n",
       "    </tr>\n",
       "    <tr>\n",
       "      <th>3</th>\n",
       "      <td>3</td>\n",
       "      <td>0.000000</td>\n",
       "      <td>#girlionsafari #girnationalpark #girsafaribook...</td>\n",
       "      <td>sasangir</td>\n",
       "    </tr>\n",
       "    <tr>\n",
       "      <th>4</th>\n",
       "      <td>4</td>\n",
       "      <td>0.000000</td>\n",
       "      <td>#girnationalpark #girsafaribooking Night that ...</td>\n",
       "      <td>sasangir</td>\n",
       "    </tr>\n",
       "    <tr>\n",
       "      <th>...</th>\n",
       "      <td>...</td>\n",
       "      <td>...</td>\n",
       "      <td>...</td>\n",
       "      <td>...</td>\n",
       "    </tr>\n",
       "    <tr>\n",
       "      <th>306</th>\n",
       "      <td>306</td>\n",
       "      <td>0.000000</td>\n",
       "      <td>Shivrajpur Beach Gujarat Blue Flag Certified B...</td>\n",
       "      <td>dwarka</td>\n",
       "    </tr>\n",
       "    <tr>\n",
       "      <th>307</th>\n",
       "      <td>307</td>\n",
       "      <td>0.000000</td>\n",
       "      <td>Shivrajpur Beach Gujarat Blue Flag Certified B...</td>\n",
       "      <td>dwarka</td>\n",
       "    </tr>\n",
       "    <tr>\n",
       "      <th>308</th>\n",
       "      <td>308</td>\n",
       "      <td>0.000000</td>\n",
       "      <td>Shivrajpur Beach Gujarat Blue Flag Certified B...</td>\n",
       "      <td>dwarka</td>\n",
       "    </tr>\n",
       "    <tr>\n",
       "      <th>309</th>\n",
       "      <td>309</td>\n",
       "      <td>0.000000</td>\n",
       "      <td>Shivrajpur Beach Gujarat Blue Flag Certified B...</td>\n",
       "      <td>dwarka</td>\n",
       "    </tr>\n",
       "    <tr>\n",
       "      <th>310</th>\n",
       "      <td>310</td>\n",
       "      <td>0.000000</td>\n",
       "      <td>Shivrajpur Beach Gujarat Blue Flag Certified B...</td>\n",
       "      <td>dwarka</td>\n",
       "    </tr>\n",
       "  </tbody>\n",
       "</table>\n",
       "<p>311 rows × 4 columns</p>\n",
       "</div>"
      ],
      "text/plain": [
       "     Unnamed: 0  polarity                                              tweet  \\\n",
       "0             0  0.000000  #girnationalpark #girsafaribooking #girlionsaf...   \n",
       "1             1  0.166667  Sound Asiatic #Lioness rejecting young Asiatic...   \n",
       "2             2  0.375000  World Animal Protection Welcomes Corporates Em...   \n",
       "3             3  0.000000  #girlionsafari #girnationalpark #girsafaribook...   \n",
       "4             4  0.000000  #girnationalpark #girsafaribooking Night that ...   \n",
       "..          ...       ...                                                ...   \n",
       "306         306  0.000000  Shivrajpur Beach Gujarat Blue Flag Certified B...   \n",
       "307         307  0.000000  Shivrajpur Beach Gujarat Blue Flag Certified B...   \n",
       "308         308  0.000000  Shivrajpur Beach Gujarat Blue Flag Certified B...   \n",
       "309         309  0.000000  Shivrajpur Beach Gujarat Blue Flag Certified B...   \n",
       "310         310  0.000000  Shivrajpur Beach Gujarat Blue Flag Certified B...   \n",
       "\n",
       "     Location  \n",
       "0    sasangir  \n",
       "1    sasangir  \n",
       "2    sasangir  \n",
       "3    sasangir  \n",
       "4    sasangir  \n",
       "..        ...  \n",
       "306    dwarka  \n",
       "307    dwarka  \n",
       "308    dwarka  \n",
       "309    dwarka  \n",
       "310    dwarka  \n",
       "\n",
       "[311 rows x 4 columns]"
      ]
     },
     "execution_count": 10,
     "metadata": {},
     "output_type": "execute_result"
    }
   ],
   "source": [
    "df=pd.read_csv(r'C:\\Users\\Ayush Patel\\.spyder-py3\\gujaratsentiment.csv')\n",
    "df"
   ]
  },
  {
   "cell_type": "code",
   "execution_count": 11,
   "metadata": {},
   "outputs": [
    {
     "data": {
      "text/plain": [
       "0        0\n",
       "1        1\n",
       "2        2\n",
       "3        3\n",
       "4        4\n",
       "      ... \n",
       "306    306\n",
       "307    307\n",
       "308    308\n",
       "309    309\n",
       "310    310\n",
       "Name: Unnamed: 0, Length: 311, dtype: int64"
      ]
     },
     "execution_count": 11,
     "metadata": {},
     "output_type": "execute_result"
    }
   ],
   "source": [
    "df.pop('Unnamed: 0')"
   ]
  },
  {
   "cell_type": "code",
   "execution_count": 12,
   "metadata": {},
   "outputs": [
    {
     "data": {
      "text/html": [
       "<div>\n",
       "<style scoped>\n",
       "    .dataframe tbody tr th:only-of-type {\n",
       "        vertical-align: middle;\n",
       "    }\n",
       "\n",
       "    .dataframe tbody tr th {\n",
       "        vertical-align: top;\n",
       "    }\n",
       "\n",
       "    .dataframe thead th {\n",
       "        text-align: right;\n",
       "    }\n",
       "</style>\n",
       "<table border=\"1\" class=\"dataframe\">\n",
       "  <thead>\n",
       "    <tr style=\"text-align: right;\">\n",
       "      <th></th>\n",
       "      <th>polarity</th>\n",
       "      <th>tweet</th>\n",
       "      <th>Location</th>\n",
       "    </tr>\n",
       "  </thead>\n",
       "  <tbody>\n",
       "    <tr>\n",
       "      <th>0</th>\n",
       "      <td>0.000000</td>\n",
       "      <td>#girnationalpark #girsafaribooking #girlionsaf...</td>\n",
       "      <td>sasangir</td>\n",
       "    </tr>\n",
       "    <tr>\n",
       "      <th>1</th>\n",
       "      <td>0.166667</td>\n",
       "      <td>Sound Asiatic #Lioness rejecting young Asiatic...</td>\n",
       "      <td>sasangir</td>\n",
       "    </tr>\n",
       "    <tr>\n",
       "      <th>2</th>\n",
       "      <td>0.375000</td>\n",
       "      <td>World Animal Protection Welcomes Corporates Em...</td>\n",
       "      <td>sasangir</td>\n",
       "    </tr>\n",
       "    <tr>\n",
       "      <th>3</th>\n",
       "      <td>0.000000</td>\n",
       "      <td>#girlionsafari #girnationalpark #girsafaribook...</td>\n",
       "      <td>sasangir</td>\n",
       "    </tr>\n",
       "    <tr>\n",
       "      <th>4</th>\n",
       "      <td>0.000000</td>\n",
       "      <td>#girnationalpark #girsafaribooking Night that ...</td>\n",
       "      <td>sasangir</td>\n",
       "    </tr>\n",
       "    <tr>\n",
       "      <th>...</th>\n",
       "      <td>...</td>\n",
       "      <td>...</td>\n",
       "      <td>...</td>\n",
       "    </tr>\n",
       "    <tr>\n",
       "      <th>306</th>\n",
       "      <td>0.000000</td>\n",
       "      <td>Shivrajpur Beach Gujarat Blue Flag Certified B...</td>\n",
       "      <td>dwarka</td>\n",
       "    </tr>\n",
       "    <tr>\n",
       "      <th>307</th>\n",
       "      <td>0.000000</td>\n",
       "      <td>Shivrajpur Beach Gujarat Blue Flag Certified B...</td>\n",
       "      <td>dwarka</td>\n",
       "    </tr>\n",
       "    <tr>\n",
       "      <th>308</th>\n",
       "      <td>0.000000</td>\n",
       "      <td>Shivrajpur Beach Gujarat Blue Flag Certified B...</td>\n",
       "      <td>dwarka</td>\n",
       "    </tr>\n",
       "    <tr>\n",
       "      <th>309</th>\n",
       "      <td>0.000000</td>\n",
       "      <td>Shivrajpur Beach Gujarat Blue Flag Certified B...</td>\n",
       "      <td>dwarka</td>\n",
       "    </tr>\n",
       "    <tr>\n",
       "      <th>310</th>\n",
       "      <td>0.000000</td>\n",
       "      <td>Shivrajpur Beach Gujarat Blue Flag Certified B...</td>\n",
       "      <td>dwarka</td>\n",
       "    </tr>\n",
       "  </tbody>\n",
       "</table>\n",
       "<p>311 rows × 3 columns</p>\n",
       "</div>"
      ],
      "text/plain": [
       "     polarity                                              tweet  Location\n",
       "0    0.000000  #girnationalpark #girsafaribooking #girlionsaf...  sasangir\n",
       "1    0.166667  Sound Asiatic #Lioness rejecting young Asiatic...  sasangir\n",
       "2    0.375000  World Animal Protection Welcomes Corporates Em...  sasangir\n",
       "3    0.000000  #girlionsafari #girnationalpark #girsafaribook...  sasangir\n",
       "4    0.000000  #girnationalpark #girsafaribooking Night that ...  sasangir\n",
       "..        ...                                                ...       ...\n",
       "306  0.000000  Shivrajpur Beach Gujarat Blue Flag Certified B...    dwarka\n",
       "307  0.000000  Shivrajpur Beach Gujarat Blue Flag Certified B...    dwarka\n",
       "308  0.000000  Shivrajpur Beach Gujarat Blue Flag Certified B...    dwarka\n",
       "309  0.000000  Shivrajpur Beach Gujarat Blue Flag Certified B...    dwarka\n",
       "310  0.000000  Shivrajpur Beach Gujarat Blue Flag Certified B...    dwarka\n",
       "\n",
       "[311 rows x 3 columns]"
      ]
     },
     "execution_count": 12,
     "metadata": {},
     "output_type": "execute_result"
    }
   ],
   "source": [
    "df"
   ]
  },
  {
   "cell_type": "code",
   "execution_count": 13,
   "metadata": {},
   "outputs": [
    {
     "data": {
      "text/html": [
       "<div>\n",
       "<style scoped>\n",
       "    .dataframe tbody tr th:only-of-type {\n",
       "        vertical-align: middle;\n",
       "    }\n",
       "\n",
       "    .dataframe tbody tr th {\n",
       "        vertical-align: top;\n",
       "    }\n",
       "\n",
       "    .dataframe thead th {\n",
       "        text-align: right;\n",
       "    }\n",
       "</style>\n",
       "<table border=\"1\" class=\"dataframe\">\n",
       "  <thead>\n",
       "    <tr style=\"text-align: right;\">\n",
       "      <th></th>\n",
       "      <th>polarity</th>\n",
       "      <th>tweet</th>\n",
       "      <th>Location</th>\n",
       "    </tr>\n",
       "  </thead>\n",
       "  <tbody>\n",
       "    <tr>\n",
       "      <th>0</th>\n",
       "      <td>0.000000</td>\n",
       "      <td>#girnationalpark #girsafaribooking #girlionsaf...</td>\n",
       "      <td>sasangir</td>\n",
       "    </tr>\n",
       "    <tr>\n",
       "      <th>1</th>\n",
       "      <td>0.166667</td>\n",
       "      <td>Sound Asiatic #Lioness rejecting young Asiatic...</td>\n",
       "      <td>sasangir</td>\n",
       "    </tr>\n",
       "    <tr>\n",
       "      <th>2</th>\n",
       "      <td>0.375000</td>\n",
       "      <td>World Animal Protection Welcomes Corporates Em...</td>\n",
       "      <td>sasangir</td>\n",
       "    </tr>\n",
       "    <tr>\n",
       "      <th>3</th>\n",
       "      <td>0.000000</td>\n",
       "      <td>#girlionsafari #girnationalpark #girsafaribook...</td>\n",
       "      <td>sasangir</td>\n",
       "    </tr>\n",
       "    <tr>\n",
       "      <th>4</th>\n",
       "      <td>0.000000</td>\n",
       "      <td>#girnationalpark #girsafaribooking Night that ...</td>\n",
       "      <td>sasangir</td>\n",
       "    </tr>\n",
       "    <tr>\n",
       "      <th>...</th>\n",
       "      <td>...</td>\n",
       "      <td>...</td>\n",
       "      <td>...</td>\n",
       "    </tr>\n",
       "    <tr>\n",
       "      <th>306</th>\n",
       "      <td>0.000000</td>\n",
       "      <td>Shivrajpur Beach Gujarat Blue Flag Certified B...</td>\n",
       "      <td>dwarka</td>\n",
       "    </tr>\n",
       "    <tr>\n",
       "      <th>307</th>\n",
       "      <td>0.000000</td>\n",
       "      <td>Shivrajpur Beach Gujarat Blue Flag Certified B...</td>\n",
       "      <td>dwarka</td>\n",
       "    </tr>\n",
       "    <tr>\n",
       "      <th>308</th>\n",
       "      <td>0.000000</td>\n",
       "      <td>Shivrajpur Beach Gujarat Blue Flag Certified B...</td>\n",
       "      <td>dwarka</td>\n",
       "    </tr>\n",
       "    <tr>\n",
       "      <th>309</th>\n",
       "      <td>0.000000</td>\n",
       "      <td>Shivrajpur Beach Gujarat Blue Flag Certified B...</td>\n",
       "      <td>dwarka</td>\n",
       "    </tr>\n",
       "    <tr>\n",
       "      <th>310</th>\n",
       "      <td>0.000000</td>\n",
       "      <td>Shivrajpur Beach Gujarat Blue Flag Certified B...</td>\n",
       "      <td>dwarka</td>\n",
       "    </tr>\n",
       "  </tbody>\n",
       "</table>\n",
       "<p>293 rows × 3 columns</p>\n",
       "</div>"
      ],
      "text/plain": [
       "     polarity                                              tweet  Location\n",
       "0    0.000000  #girnationalpark #girsafaribooking #girlionsaf...  sasangir\n",
       "1    0.166667  Sound Asiatic #Lioness rejecting young Asiatic...  sasangir\n",
       "2    0.375000  World Animal Protection Welcomes Corporates Em...  sasangir\n",
       "3    0.000000  #girlionsafari #girnationalpark #girsafaribook...  sasangir\n",
       "4    0.000000  #girnationalpark #girsafaribooking Night that ...  sasangir\n",
       "..        ...                                                ...       ...\n",
       "306  0.000000  Shivrajpur Beach Gujarat Blue Flag Certified B...    dwarka\n",
       "307  0.000000  Shivrajpur Beach Gujarat Blue Flag Certified B...    dwarka\n",
       "308  0.000000  Shivrajpur Beach Gujarat Blue Flag Certified B...    dwarka\n",
       "309  0.000000  Shivrajpur Beach Gujarat Blue Flag Certified B...    dwarka\n",
       "310  0.000000  Shivrajpur Beach Gujarat Blue Flag Certified B...    dwarka\n",
       "\n",
       "[293 rows x 3 columns]"
      ]
     },
     "execution_count": 13,
     "metadata": {},
     "output_type": "execute_result"
    }
   ],
   "source": [
    "df1=df[df['polarity']>=0]\n",
    "df1\n"
   ]
  },
  {
   "cell_type": "code",
   "execution_count": 14,
   "metadata": {},
   "outputs": [
    {
     "data": {
      "text/plain": [
       "Text(0.5, 1.0, 'Percentage of tweet on specific location')"
      ]
     },
     "execution_count": 14,
     "metadata": {},
     "output_type": "execute_result"
    },
    {
     "data": {
      "image/png": "[encoded data removed]",
      "text/plain": [
       "<Figure size 720x504 with 1 Axes>"
      ]
     },
     "metadata": {},
     "output_type": "display_data"
    }
   ],
   "source": [
    "df1['Location'].value_counts().plot(kind='pie', fontsize=14, autopct='%3.1f%%', \n",
    "                                               figsize=(10,7), shadow=True, startangle=135, legend=True, cmap='Oranges')\n",
    "\n",
    "\n",
    "plt.title('Percentage of tweet on specific location')"
   ]
  },
  {
   "cell_type": "code",
   "execution_count": 15,
   "metadata": {},
   "outputs": [
    {
     "name": "stderr",
     "output_type": "stream",
     "text": [
      "D:\\anaconda\\lib\\site-packages\\seaborn\\_decorators.py:36: FutureWarning: Pass the following variable as a keyword arg: x. From version 0.12, the only valid positional argument will be `data`, and passing other arguments without an explicit keyword will result in an error or misinterpretation.\n",
      "  warnings.warn(\n"
     ]
    },
    {
     "data": {
      "text/plain": [
       "(array([  0.,  25.,  50.,  75., 100., 125., 150., 175., 200.]),\n",
       " [Text(0, 0, ''),\n",
       "  Text(0, 0, ''),\n",
       "  Text(0, 0, ''),\n",
       "  Text(0, 0, ''),\n",
       "  Text(0, 0, ''),\n",
       "  Text(0, 0, ''),\n",
       "  Text(0, 0, ''),\n",
       "  Text(0, 0, ''),\n",
       "  Text(0, 0, '')])"
      ]
     },
     "execution_count": 15,
     "metadata": {},
     "output_type": "execute_result"
    },
    {
     "data": {
      "image/png": "[encoded data removed]",
      "text/plain": [
       "<Figure size 1080x360 with 1 Axes>"
      ]
     },
     "metadata": {
      "needs_background": "light"
     },
     "output_type": "display_data"
    }
   ],
   "source": [
    "plt.figure(figsize=(15,5))\n",
    "sns.countplot('Location', data = df)\n",
    "plt.title(\"Number of Tweet on specific location\",fontsize=18,fontweight=\"bold\")\n",
    "plt.ylabel(\"Tweet\", size = 25)\n",
    "plt.xlabel(\"Places\", size = 25)\n",
    "plt.xticks(size = 20)\n",
    "plt.yticks(size = 20)"
   ]
  },
  {
   "cell_type": "code",
   "execution_count": 17,
   "metadata": {},
   "outputs": [
    {
     "data": {
      "image/png": "[encoded data removed]",
      "text/plain": [
       "<Figure size 1296x720 with 1 Axes>"
      ]
     },
     "metadata": {
      "needs_background": "light"
     },
     "output_type": "display_data"
    }
   ],
   "source": [
    "plt.figure(figsize = (18,10))\n",
    "sns.countplot(x='Location',data=df, palette='cool')\n",
    "plt.title(\"Gujarat \",fontsize=20)\n",
    "plt.xticks(rotation=50)\n",
    "plt.xlabel(\"Places\",fontsize=15)\n",
    "plt.ylabel(\"No of Tweet\",fontsize=15)\n",
    "plt.show()\n"
   ]
  },
  {
   "cell_type": "code",
   "execution_count": null,
   "metadata": {},
   "outputs": [],
   "source": []
  }
 ],
 "metadata": {
  "kernelspec": {
   "display_name": "Python 3",
   "language": "python",
   "name": "python3"
  },
  "language_info": {
   "codemirror_mode": {
    "name": "ipython",
    "version": 3
   },
   "file_extension": ".py",
   "mimetype": "text/x-python",
   "name": "python",
   "nbconvert_exporter": "python",
   "pygments_lexer": "ipython3",
   "version": "3.8.5"
  }
 },
 "nbformat": 4,
 "nbformat_minor": 4
}

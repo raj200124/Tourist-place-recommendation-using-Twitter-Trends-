{
 "cells": [
  {
   "cell_type": "code",
   "execution_count": 15,
   "metadata": {},
   "outputs": [],
   "source": [
    "import re\n",
    "import pandas as pd \n",
    "import numpy as np \n",
    "import warnings \n",
    "from textblob import TextBlob\n",
    "import matplotlib.pyplot as plt \n",
    "import seaborn as sns\n",
    "warnings.filterwarnings(\"ignore\", category=DeprecationWarning)\n"
   ]
  },
  {
   "cell_type": "code",
   "execution_count": 3,
   "metadata": {},
   "outputs": [
    {
     "data": {
      "text/html": [
       "<div>\n",
       "<style scoped>\n",
       "    .dataframe tbody tr th:only-of-type {\n",
       "        vertical-align: middle;\n",
       "    }\n",
       "\n",
       "    .dataframe tbody tr th {\n",
       "        vertical-align: top;\n",
       "    }\n",
       "\n",
       "    .dataframe thead th {\n",
       "        text-align: right;\n",
       "    }\n",
       "</style>\n",
       "<table border=\"1\" class=\"dataframe\">\n",
       "  <thead>\n",
       "    <tr style=\"text-align: right;\">\n",
       "      <th></th>\n",
       "      <th>Location</th>\n",
       "      <th>Tweet</th>\n",
       "    </tr>\n",
       "  </thead>\n",
       "  <tbody>\n",
       "    <tr>\n",
       "      <th>0</th>\n",
       "      <td>udaipur</td>\n",
       "      <td>May the colours of Holi bring out the best col...</td>\n",
       "    </tr>\n",
       "    <tr>\n",
       "      <th>1</th>\n",
       "      <td>udaipur</td>\n",
       "      <td>RT @mronaaljkherada: Be good enough to forgive...</td>\n",
       "    </tr>\n",
       "    <tr>\n",
       "      <th>2</th>\n",
       "      <td>udaipur</td>\n",
       "      <td>RT @mronaaljkherada: Be good enough to forgive...</td>\n",
       "    </tr>\n",
       "    <tr>\n",
       "      <th>3</th>\n",
       "      <td>udaipur</td>\n",
       "      <td>Be good enough to forgive people,\\nBut don't b...</td>\n",
       "    </tr>\n",
       "    <tr>\n",
       "      <th>4</th>\n",
       "      <td>udaipur</td>\n",
       "      <td>The city of Udaipur through a window in the Ud...</td>\n",
       "    </tr>\n",
       "  </tbody>\n",
       "</table>\n",
       "</div>"
      ],
      "text/plain": [
       "  Location                                              Tweet\n",
       "0  udaipur  May the colours of Holi bring out the best col...\n",
       "1  udaipur  RT @mronaaljkherada: Be good enough to forgive...\n",
       "2  udaipur  RT @mronaaljkherada: Be good enough to forgive...\n",
       "3  udaipur  Be good enough to forgive people,\\nBut don't b...\n",
       "4  udaipur  The city of Udaipur through a window in the Ud..."
      ]
     },
     "execution_count": 3,
     "metadata": {},
     "output_type": "execute_result"
    }
   ],
   "source": [
    "train  = pd.read_csv(r\"C:\\Users\\Ayush Patel\\Downloads\\rajasthan_data.csv\")\n",
    "train.head()"
   ]
  },
  {
   "cell_type": "code",
   "execution_count": 4,
   "metadata": {},
   "outputs": [],
   "source": [
    "def remove_pattern(input_txt, pattern):\n",
    "    r = re.findall(pattern, input_txt)\n",
    "    for i in r:\n",
    "        input_txt = re.sub(i, '', input_txt)\n",
    "        \n",
    "    return input_txt "
   ]
  },
  {
   "cell_type": "code",
   "execution_count": 5,
   "metadata": {},
   "outputs": [
    {
     "data": {
      "text/html": [
       "<div>\n",
       "<style scoped>\n",
       "    .dataframe tbody tr th:only-of-type {\n",
       "        vertical-align: middle;\n",
       "    }\n",
       "\n",
       "    .dataframe tbody tr th {\n",
       "        vertical-align: top;\n",
       "    }\n",
       "\n",
       "    .dataframe thead th {\n",
       "        text-align: right;\n",
       "    }\n",
       "</style>\n",
       "<table border=\"1\" class=\"dataframe\">\n",
       "  <thead>\n",
       "    <tr style=\"text-align: right;\">\n",
       "      <th></th>\n",
       "      <th>Location</th>\n",
       "      <th>Tweet</th>\n",
       "      <th>tidy_tweet</th>\n",
       "    </tr>\n",
       "  </thead>\n",
       "  <tbody>\n",
       "    <tr>\n",
       "      <th>0</th>\n",
       "      <td>udaipur</td>\n",
       "      <td>May the colours of Holi bring out the best col...</td>\n",
       "      <td>colours Holi bring best colours Wishing very p...</td>\n",
       "    </tr>\n",
       "    <tr>\n",
       "      <th>1</th>\n",
       "      <td>udaipur</td>\n",
       "      <td>RT @mronaaljkherada: Be good enough to forgive...</td>\n",
       "      <td>good enough forgive people stupid trust them a...</td>\n",
       "    </tr>\n",
       "    <tr>\n",
       "      <th>2</th>\n",
       "      <td>udaipur</td>\n",
       "      <td>RT @mronaaljkherada: Be good enough to forgive...</td>\n",
       "      <td>good enough forgive people stupid trust them a...</td>\n",
       "    </tr>\n",
       "    <tr>\n",
       "      <th>3</th>\n",
       "      <td>udaipur</td>\n",
       "      <td>Be good enough to forgive people,\\nBut don't b...</td>\n",
       "      <td>good enough forgive people stupid trust them a...</td>\n",
       "    </tr>\n",
       "    <tr>\n",
       "      <th>4</th>\n",
       "      <td>udaipur</td>\n",
       "      <td>The city of Udaipur through a window in the Ud...</td>\n",
       "      <td>city Udaipur through window Udaipur City Palac...</td>\n",
       "    </tr>\n",
       "  </tbody>\n",
       "</table>\n",
       "</div>"
      ],
      "text/plain": [
       "  Location                                              Tweet  \\\n",
       "0  udaipur  May the colours of Holi bring out the best col...   \n",
       "1  udaipur  RT @mronaaljkherada: Be good enough to forgive...   \n",
       "2  udaipur  RT @mronaaljkherada: Be good enough to forgive...   \n",
       "3  udaipur  Be good enough to forgive people,\\nBut don't b...   \n",
       "4  udaipur  The city of Udaipur through a window in the Ud...   \n",
       "\n",
       "                                          tidy_tweet  \n",
       "0  colours Holi bring best colours Wishing very p...  \n",
       "1  good enough forgive people stupid trust them a...  \n",
       "2  good enough forgive people stupid trust them a...  \n",
       "3  good enough forgive people stupid trust them a...  \n",
       "4  city Udaipur through window Udaipur City Palac...  "
      ]
     },
     "execution_count": 5,
     "metadata": {},
     "output_type": "execute_result"
    }
   ],
   "source": [
    "train['tidy_tweet'] = np.vectorize(remove_pattern)(train['Tweet'], \"@[\\w]*\")\n",
    "train['tidy_tweet'] = train['tidy_tweet'].str.replace(\"[^a-zA-Z#]\", \" \")\n",
    "train['tidy_tweet'] = train['tidy_tweet'].apply(lambda x: ' '.join([w for w in x.split() if len(w)>3]))\n",
    "train.head()"
   ]
  },
  {
   "cell_type": "code",
   "execution_count": 6,
   "metadata": {},
   "outputs": [
    {
     "data": {
      "text/html": [
       "<div>\n",
       "<style scoped>\n",
       "    .dataframe tbody tr th:only-of-type {\n",
       "        vertical-align: middle;\n",
       "    }\n",
       "\n",
       "    .dataframe tbody tr th {\n",
       "        vertical-align: top;\n",
       "    }\n",
       "\n",
       "    .dataframe thead th {\n",
       "        text-align: right;\n",
       "    }\n",
       "</style>\n",
       "<table border=\"1\" class=\"dataframe\">\n",
       "  <thead>\n",
       "    <tr style=\"text-align: right;\">\n",
       "      <th></th>\n",
       "      <th>polarity</th>\n",
       "      <th>tweet</th>\n",
       "    </tr>\n",
       "  </thead>\n",
       "  <tbody>\n",
       "    <tr>\n",
       "      <th>0</th>\n",
       "      <td>0.600000</td>\n",
       "      <td>colours Holi bring best colours Wishing very p...</td>\n",
       "    </tr>\n",
       "    <tr>\n",
       "      <th>1</th>\n",
       "      <td>-0.033333</td>\n",
       "      <td>good enough forgive people stupid trust them a...</td>\n",
       "    </tr>\n",
       "    <tr>\n",
       "      <th>2</th>\n",
       "      <td>-0.033333</td>\n",
       "      <td>good enough forgive people stupid trust them a...</td>\n",
       "    </tr>\n",
       "    <tr>\n",
       "      <th>3</th>\n",
       "      <td>-0.033333</td>\n",
       "      <td>good enough forgive people stupid trust them a...</td>\n",
       "    </tr>\n",
       "    <tr>\n",
       "      <th>4</th>\n",
       "      <td>0.000000</td>\n",
       "      <td>city Udaipur through window Udaipur City Palac...</td>\n",
       "    </tr>\n",
       "  </tbody>\n",
       "</table>\n",
       "</div>"
      ],
      "text/plain": [
       "   polarity                                              tweet\n",
       "0  0.600000  colours Holi bring best colours Wishing very p...\n",
       "1 -0.033333  good enough forgive people stupid trust them a...\n",
       "2 -0.033333  good enough forgive people stupid trust them a...\n",
       "3 -0.033333  good enough forgive people stupid trust them a...\n",
       "4  0.000000  city Udaipur through window Udaipur City Palac..."
      ]
     },
     "execution_count": 6,
     "metadata": {},
     "output_type": "execute_result"
    }
   ],
   "source": [
    "sentiment_objects = [TextBlob(text) for text in train['tidy_tweet']]\n",
    "sentiment_objects[0].polarity, sentiment_objects[0]\n",
    "sentiment_values = [[text.sentiment.polarity, str(text)] for text in sentiment_objects]\n",
    "sentiment_values[0]\n",
    "data = pd.DataFrame(data=sentiment_values, columns=[\"polarity\", \"tweet\"])\n",
    "data.head()"
   ]
  },
  {
   "cell_type": "code",
   "execution_count": 7,
   "metadata": {},
   "outputs": [
    {
     "name": "stdout",
     "output_type": "stream",
     "text": [
      "     polarity                                              tweet   Location\n",
      "0    0.600000  colours Holi bring best colours Wishing very p...    udaipur\n",
      "1   -0.033333  good enough forgive people stupid trust them a...    udaipur\n",
      "2   -0.033333  good enough forgive people stupid trust them a...    udaipur\n",
      "3   -0.033333  good enough forgive people stupid trust them a...    udaipur\n",
      "4    0.000000  city Udaipur through window Udaipur City Palac...    udaipur\n",
      "..        ...                                                ...        ...\n",
      "312  0.000000  #ShrinathjiKeDarshan Gwal Darshan Third #darsh...  nathdwara\n",
      "313  0.000000  #ShrinathjiKeDarshan Gwal Darshan Third #darsh...  nathdwara\n",
      "314  0.000000  #ShrinathjiKeDarshan Gwal Darshan Third #darsh...  nathdwara\n",
      "315  0.000000  #ShrinathjiKeDarshan Gwal Darshan Third #darsh...  nathdwara\n",
      "316  0.000000  #ShrinathjiKeDarshan Gwal Darshan Third #darsh...  nathdwara\n",
      "\n",
      "[317 rows x 3 columns]\n"
     ]
    }
   ],
   "source": [
    "data['Location']=[loc for loc in train['Location']]\n",
    "print(data)\n",
    "data.to_csv(r'C:\\Users\\Ayush Patel\\.spyder-py3\\rajasthansentiment.csv')"
   ]
  },
  {
   "cell_type": "code",
   "execution_count": 10,
   "metadata": {},
   "outputs": [
    {
     "data": {
      "text/html": [
       "<div>\n",
       "<style scoped>\n",
       "    .dataframe tbody tr th:only-of-type {\n",
       "        vertical-align: middle;\n",
       "    }\n",
       "\n",
       "    .dataframe tbody tr th {\n",
       "        vertical-align: top;\n",
       "    }\n",
       "\n",
       "    .dataframe thead th {\n",
       "        text-align: right;\n",
       "    }\n",
       "</style>\n",
       "<table border=\"1\" class=\"dataframe\">\n",
       "  <thead>\n",
       "    <tr style=\"text-align: right;\">\n",
       "      <th></th>\n",
       "      <th>Unnamed: 0</th>\n",
       "      <th>polarity</th>\n",
       "      <th>tweet</th>\n",
       "      <th>Location</th>\n",
       "    </tr>\n",
       "  </thead>\n",
       "  <tbody>\n",
       "    <tr>\n",
       "      <th>0</th>\n",
       "      <td>0</td>\n",
       "      <td>0.600000</td>\n",
       "      <td>colours Holi bring best colours Wishing very p...</td>\n",
       "      <td>udaipur</td>\n",
       "    </tr>\n",
       "    <tr>\n",
       "      <th>1</th>\n",
       "      <td>1</td>\n",
       "      <td>-0.033333</td>\n",
       "      <td>good enough forgive people stupid trust them a...</td>\n",
       "      <td>udaipur</td>\n",
       "    </tr>\n",
       "    <tr>\n",
       "      <th>2</th>\n",
       "      <td>2</td>\n",
       "      <td>-0.033333</td>\n",
       "      <td>good enough forgive people stupid trust them a...</td>\n",
       "      <td>udaipur</td>\n",
       "    </tr>\n",
       "    <tr>\n",
       "      <th>3</th>\n",
       "      <td>3</td>\n",
       "      <td>-0.033333</td>\n",
       "      <td>good enough forgive people stupid trust them a...</td>\n",
       "      <td>udaipur</td>\n",
       "    </tr>\n",
       "    <tr>\n",
       "      <th>4</th>\n",
       "      <td>4</td>\n",
       "      <td>0.000000</td>\n",
       "      <td>city Udaipur through window Udaipur City Palac...</td>\n",
       "      <td>udaipur</td>\n",
       "    </tr>\n",
       "  </tbody>\n",
       "</table>\n",
       "</div>"
      ],
      "text/plain": [
       "   Unnamed: 0  polarity                                              tweet  \\\n",
       "0           0  0.600000  colours Holi bring best colours Wishing very p...   \n",
       "1           1 -0.033333  good enough forgive people stupid trust them a...   \n",
       "2           2 -0.033333  good enough forgive people stupid trust them a...   \n",
       "3           3 -0.033333  good enough forgive people stupid trust them a...   \n",
       "4           4  0.000000  city Udaipur through window Udaipur City Palac...   \n",
       "\n",
       "  Location  \n",
       "0  udaipur  \n",
       "1  udaipur  \n",
       "2  udaipur  \n",
       "3  udaipur  \n",
       "4  udaipur  "
      ]
     },
     "execution_count": 10,
     "metadata": {},
     "output_type": "execute_result"
    }
   ],
   "source": [
    "df=pd.read_csv(r'C:\\Users\\Ayush Patel\\.spyder-py3\\rajasthansentiment.csv')\n",
    "df.head()"
   ]
  },
  {
   "cell_type": "code",
   "execution_count": 11,
   "metadata": {},
   "outputs": [
    {
     "data": {
      "text/plain": [
       "0        0\n",
       "1        1\n",
       "2        2\n",
       "3        3\n",
       "4        4\n",
       "      ... \n",
       "312    312\n",
       "313    313\n",
       "314    314\n",
       "315    315\n",
       "316    316\n",
       "Name: Unnamed: 0, Length: 317, dtype: int64"
      ]
     },
     "execution_count": 11,
     "metadata": {},
     "output_type": "execute_result"
    }
   ],
   "source": [
    "df.pop('Unnamed: 0')"
   ]
  },
  {
   "cell_type": "code",
   "execution_count": 12,
   "metadata": {},
   "outputs": [
    {
     "data": {
      "text/html": [
       "<div>\n",
       "<style scoped>\n",
       "    .dataframe tbody tr th:only-of-type {\n",
       "        vertical-align: middle;\n",
       "    }\n",
       "\n",
       "    .dataframe tbody tr th {\n",
       "        vertical-align: top;\n",
       "    }\n",
       "\n",
       "    .dataframe thead th {\n",
       "        text-align: right;\n",
       "    }\n",
       "</style>\n",
       "<table border=\"1\" class=\"dataframe\">\n",
       "  <thead>\n",
       "    <tr style=\"text-align: right;\">\n",
       "      <th></th>\n",
       "      <th>polarity</th>\n",
       "      <th>tweet</th>\n",
       "      <th>Location</th>\n",
       "    </tr>\n",
       "  </thead>\n",
       "  <tbody>\n",
       "    <tr>\n",
       "      <th>0</th>\n",
       "      <td>0.600000</td>\n",
       "      <td>colours Holi bring best colours Wishing very p...</td>\n",
       "      <td>udaipur</td>\n",
       "    </tr>\n",
       "    <tr>\n",
       "      <th>1</th>\n",
       "      <td>-0.033333</td>\n",
       "      <td>good enough forgive people stupid trust them a...</td>\n",
       "      <td>udaipur</td>\n",
       "    </tr>\n",
       "    <tr>\n",
       "      <th>2</th>\n",
       "      <td>-0.033333</td>\n",
       "      <td>good enough forgive people stupid trust them a...</td>\n",
       "      <td>udaipur</td>\n",
       "    </tr>\n",
       "    <tr>\n",
       "      <th>3</th>\n",
       "      <td>-0.033333</td>\n",
       "      <td>good enough forgive people stupid trust them a...</td>\n",
       "      <td>udaipur</td>\n",
       "    </tr>\n",
       "    <tr>\n",
       "      <th>4</th>\n",
       "      <td>0.000000</td>\n",
       "      <td>city Udaipur through window Udaipur City Palac...</td>\n",
       "      <td>udaipur</td>\n",
       "    </tr>\n",
       "    <tr>\n",
       "      <th>...</th>\n",
       "      <td>...</td>\n",
       "      <td>...</td>\n",
       "      <td>...</td>\n",
       "    </tr>\n",
       "    <tr>\n",
       "      <th>312</th>\n",
       "      <td>0.000000</td>\n",
       "      <td>#ShrinathjiKeDarshan Gwal Darshan Third #darsh...</td>\n",
       "      <td>nathdwara</td>\n",
       "    </tr>\n",
       "    <tr>\n",
       "      <th>313</th>\n",
       "      <td>0.000000</td>\n",
       "      <td>#ShrinathjiKeDarshan Gwal Darshan Third #darsh...</td>\n",
       "      <td>nathdwara</td>\n",
       "    </tr>\n",
       "    <tr>\n",
       "      <th>314</th>\n",
       "      <td>0.000000</td>\n",
       "      <td>#ShrinathjiKeDarshan Gwal Darshan Third #darsh...</td>\n",
       "      <td>nathdwara</td>\n",
       "    </tr>\n",
       "    <tr>\n",
       "      <th>315</th>\n",
       "      <td>0.000000</td>\n",
       "      <td>#ShrinathjiKeDarshan Gwal Darshan Third #darsh...</td>\n",
       "      <td>nathdwara</td>\n",
       "    </tr>\n",
       "    <tr>\n",
       "      <th>316</th>\n",
       "      <td>0.000000</td>\n",
       "      <td>#ShrinathjiKeDarshan Gwal Darshan Third #darsh...</td>\n",
       "      <td>nathdwara</td>\n",
       "    </tr>\n",
       "  </tbody>\n",
       "</table>\n",
       "<p>317 rows × 3 columns</p>\n",
       "</div>"
      ],
      "text/plain": [
       "     polarity                                              tweet   Location\n",
       "0    0.600000  colours Holi bring best colours Wishing very p...    udaipur\n",
       "1   -0.033333  good enough forgive people stupid trust them a...    udaipur\n",
       "2   -0.033333  good enough forgive people stupid trust them a...    udaipur\n",
       "3   -0.033333  good enough forgive people stupid trust them a...    udaipur\n",
       "4    0.000000  city Udaipur through window Udaipur City Palac...    udaipur\n",
       "..        ...                                                ...        ...\n",
       "312  0.000000  #ShrinathjiKeDarshan Gwal Darshan Third #darsh...  nathdwara\n",
       "313  0.000000  #ShrinathjiKeDarshan Gwal Darshan Third #darsh...  nathdwara\n",
       "314  0.000000  #ShrinathjiKeDarshan Gwal Darshan Third #darsh...  nathdwara\n",
       "315  0.000000  #ShrinathjiKeDarshan Gwal Darshan Third #darsh...  nathdwara\n",
       "316  0.000000  #ShrinathjiKeDarshan Gwal Darshan Third #darsh...  nathdwara\n",
       "\n",
       "[317 rows x 3 columns]"
      ]
     },
     "execution_count": 12,
     "metadata": {},
     "output_type": "execute_result"
    }
   ],
   "source": [
    "df"
   ]
  },
  {
   "cell_type": "code",
   "execution_count": 13,
   "metadata": {},
   "outputs": [
    {
     "data": {
      "text/html": [
       "<div>\n",
       "<style scoped>\n",
       "    .dataframe tbody tr th:only-of-type {\n",
       "        vertical-align: middle;\n",
       "    }\n",
       "\n",
       "    .dataframe tbody tr th {\n",
       "        vertical-align: top;\n",
       "    }\n",
       "\n",
       "    .dataframe thead th {\n",
       "        text-align: right;\n",
       "    }\n",
       "</style>\n",
       "<table border=\"1\" class=\"dataframe\">\n",
       "  <thead>\n",
       "    <tr style=\"text-align: right;\">\n",
       "      <th></th>\n",
       "      <th>polarity</th>\n",
       "      <th>tweet</th>\n",
       "      <th>Location</th>\n",
       "    </tr>\n",
       "  </thead>\n",
       "  <tbody>\n",
       "    <tr>\n",
       "      <th>0</th>\n",
       "      <td>0.6</td>\n",
       "      <td>colours Holi bring best colours Wishing very p...</td>\n",
       "      <td>udaipur</td>\n",
       "    </tr>\n",
       "    <tr>\n",
       "      <th>4</th>\n",
       "      <td>0.0</td>\n",
       "      <td>city Udaipur through window Udaipur City Palac...</td>\n",
       "      <td>udaipur</td>\n",
       "    </tr>\n",
       "    <tr>\n",
       "      <th>5</th>\n",
       "      <td>0.0</td>\n",
       "      <td>Awaken your taste buds with smacking Biryani R...</td>\n",
       "      <td>udaipur</td>\n",
       "    </tr>\n",
       "    <tr>\n",
       "      <th>6</th>\n",
       "      <td>0.0</td>\n",
       "      <td>Awaken your taste buds with smacking Biryani R...</td>\n",
       "      <td>udaipur</td>\n",
       "    </tr>\n",
       "    <tr>\n",
       "      <th>7</th>\n",
       "      <td>0.4</td>\n",
       "      <td>Witness horizons meet enjoy outdoor dining exp...</td>\n",
       "      <td>udaipur</td>\n",
       "    </tr>\n",
       "  </tbody>\n",
       "</table>\n",
       "</div>"
      ],
      "text/plain": [
       "   polarity                                              tweet Location\n",
       "0       0.6  colours Holi bring best colours Wishing very p...  udaipur\n",
       "4       0.0  city Udaipur through window Udaipur City Palac...  udaipur\n",
       "5       0.0  Awaken your taste buds with smacking Biryani R...  udaipur\n",
       "6       0.0  Awaken your taste buds with smacking Biryani R...  udaipur\n",
       "7       0.4  Witness horizons meet enjoy outdoor dining exp...  udaipur"
      ]
     },
     "execution_count": 13,
     "metadata": {},
     "output_type": "execute_result"
    }
   ],
   "source": [
    "df1=df[df['polarity']>=0]\n",
    "df1.head()"
   ]
  },
  {
   "cell_type": "code",
   "execution_count": 16,
   "metadata": {},
   "outputs": [
    {
     "data": {
      "text/plain": [
       "Text(0.5, 1.0, 'Percentage of tweet on specific location')"
      ]
     },
     "execution_count": 16,
     "metadata": {},
     "output_type": "execute_result"
    },
    {
     "data": {
      "image/png": "[encoded data removed]",
      "text/plain": [
       "<Figure size 720x504 with 1 Axes>"
      ]
     },
     "metadata": {},
     "output_type": "display_data"
    }
   ],
   "source": [
    "df1['Location'].value_counts().plot(kind='pie', fontsize=14, autopct='%3.1f%%', \n",
    "                                               figsize=(10,7), shadow=True, startangle=135, legend=True, cmap='Oranges')\n",
    "\n",
    "\n",
    "plt.title('Percentage of tweet on specific location')"
   ]
  },
  {
   "cell_type": "code",
   "execution_count": 17,
   "metadata": {},
   "outputs": [
    {
     "name": "stderr",
     "output_type": "stream",
     "text": [
      "D:\\anaconda\\lib\\site-packages\\seaborn\\_decorators.py:36: FutureWarning: Pass the following variable as a keyword arg: x. From version 0.12, the only valid positional argument will be `data`, and passing other arguments without an explicit keyword will result in an error or misinterpretation.\n",
      "  warnings.warn(\n"
     ]
    },
    {
     "data": {
      "text/plain": [
       "(array([  0.,  20.,  40.,  60.,  80., 100., 120., 140.]),\n",
       " [Text(0, 0, ''),\n",
       "  Text(0, 0, ''),\n",
       "  Text(0, 0, ''),\n",
       "  Text(0, 0, ''),\n",
       "  Text(0, 0, ''),\n",
       "  Text(0, 0, ''),\n",
       "  Text(0, 0, ''),\n",
       "  Text(0, 0, '')])"
      ]
     },
     "execution_count": 17,
     "metadata": {},
     "output_type": "execute_result"
    },
    {
     "data": {
      "image/png": "[encoded data removed]",
      "text/plain": [
       "<Figure size 1080x360 with 1 Axes>"
      ]
     },
     "metadata": {
      "needs_background": "light"
     },
     "output_type": "display_data"
    }
   ],
   "source": [
    "plt.figure(figsize=(15,5))\n",
    "sns.countplot('Location', data = df)\n",
    "plt.title(\"Number of Tweet on specific location\",fontsize=18,fontweight=\"bold\")\n",
    "plt.ylabel(\"Tweet\", size = 25)\n",
    "plt.xlabel(\"Places\", size = 25)\n",
    "plt.xticks(size = 20)\n",
    "plt.yticks(size = 20)"
   ]
  },
  {
   "cell_type": "code",
   "execution_count": 18,
   "metadata": {},
   "outputs": [
    {
     "data": {
      "image/png": "[encoded data removed]",
      "text/plain": [
       "<Figure size 1296x720 with 1 Axes>"
      ]
     },
     "metadata": {
      "needs_background": "light"
     },
     "output_type": "display_data"
    }
   ],
   "source": [
    "plt.figure(figsize = (18,10))\n",
    "sns.countplot(x='Location',data=df, palette='cool')\n",
    "plt.title(\"Rajasthan \",fontsize=20)\n",
    "plt.xticks(rotation=50)\n",
    "plt.xlabel(\"Places\",fontsize=15)\n",
    "plt.ylabel(\"No of Tweet\",fontsize=15)\n",
    "plt.show()\n"
   ]
  },
  {
   "cell_type": "code",
   "execution_count": null,
   "metadata": {},
   "outputs": [],
   "source": []
  }
 ],
 "metadata": {
  "kernelspec": {
   "display_name": "Python 3",
   "language": "python",
   "name": "python3"
  },
  "language_info": {
   "codemirror_mode": {
    "name": "ipython",
    "version": 3
   },
   "file_extension": ".py",
   "mimetype": "text/x-python",
   "name": "python",
   "nbconvert_exporter": "python",
   "pygments_lexer": "ipython3",
   "version": "3.8.5"
  }
 },
 "nbformat": 4,
 "nbformat_minor": 4
}

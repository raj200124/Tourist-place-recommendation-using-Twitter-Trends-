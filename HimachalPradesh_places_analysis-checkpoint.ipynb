{
 "cells": [
  {
   "cell_type": "code",
   "execution_count": 1,
   "metadata": {},
   "outputs": [],
   "source": [
    "import re\n",
    "import pandas as pd \n",
    "import numpy as np \n",
    "import warnings \n",
    "from textblob import TextBlob\n",
    "import matplotlib.pyplot as plt \n",
    "import seaborn as sns\n",
    "warnings.filterwarnings(\"ignore\", category=DeprecationWarning)"
   ]
  },
  {
   "cell_type": "code",
   "execution_count": 7,
   "metadata": {},
   "outputs": [
    {
     "data": {
      "text/html": [
       "<div>\n",
       "<style scoped>\n",
       "    .dataframe tbody tr th:only-of-type {\n",
       "        vertical-align: middle;\n",
       "    }\n",
       "\n",
       "    .dataframe tbody tr th {\n",
       "        vertical-align: top;\n",
       "    }\n",
       "\n",
       "    .dataframe thead th {\n",
       "        text-align: right;\n",
       "    }\n",
       "</style>\n",
       "<table border=\"1\" class=\"dataframe\">\n",
       "  <thead>\n",
       "    <tr style=\"text-align: right;\">\n",
       "      <th></th>\n",
       "      <th>Location</th>\n",
       "      <th>Tweet</th>\n",
       "    </tr>\n",
       "  </thead>\n",
       "  <tbody>\n",
       "    <tr>\n",
       "      <th>0</th>\n",
       "      <td>birbilling</td>\n",
       "      <td>Thank you Grand Master Jason Tan for bestowing...</td>\n",
       "    </tr>\n",
       "    <tr>\n",
       "      <th>1</th>\n",
       "      <td>birbilling</td>\n",
       "      <td>RT @BirlandMFA: Happy Birthday to the Prime Mi...</td>\n",
       "    </tr>\n",
       "    <tr>\n",
       "      <th>2</th>\n",
       "      <td>birbilling</td>\n",
       "      <td>Happy Birthday to the Prime Minister of the St...</td>\n",
       "    </tr>\n",
       "    <tr>\n",
       "      <th>3</th>\n",
       "      <td>birbilling</td>\n",
       "      <td>@FEGnassingbe Joyeuses Paques \\nHappy Easter\\n...</td>\n",
       "    </tr>\n",
       "    <tr>\n",
       "      <th>4</th>\n",
       "      <td>birbilling</td>\n",
       "      <td>@AOuattara_PRCI Joyeuses Paques \\nHappy Easter...</td>\n",
       "    </tr>\n",
       "  </tbody>\n",
       "</table>\n",
       "</div>"
      ],
      "text/plain": [
       "     Location                                              Tweet\n",
       "0  birbilling  Thank you Grand Master Jason Tan for bestowing...\n",
       "1  birbilling  RT @BirlandMFA: Happy Birthday to the Prime Mi...\n",
       "2  birbilling  Happy Birthday to the Prime Minister of the St...\n",
       "3  birbilling  @FEGnassingbe Joyeuses Paques \\nHappy Easter\\n...\n",
       "4  birbilling  @AOuattara_PRCI Joyeuses Paques \\nHappy Easter..."
      ]
     },
     "execution_count": 7,
     "metadata": {},
     "output_type": "execute_result"
    }
   ],
   "source": [
    "train  = pd.read_csv(r\"C:\\Users\\Ayush Patel\\Downloads\\himachal_pradesh_data (1) (1).csv\")\n",
    "train.head()"
   ]
  },
  {
   "cell_type": "code",
   "execution_count": 8,
   "metadata": {},
   "outputs": [],
   "source": [
    "def remove_pattern(input_txt, pattern):\n",
    "    r = re.findall(pattern, input_txt)\n",
    "    for i in r:\n",
    "        input_txt = re.sub(i, '', input_txt)\n",
    "        \n",
    "    return input_txt  "
   ]
  },
  {
   "cell_type": "code",
   "execution_count": 9,
   "metadata": {},
   "outputs": [
    {
     "data": {
      "text/html": [
       "<div>\n",
       "<style scoped>\n",
       "    .dataframe tbody tr th:only-of-type {\n",
       "        vertical-align: middle;\n",
       "    }\n",
       "\n",
       "    .dataframe tbody tr th {\n",
       "        vertical-align: top;\n",
       "    }\n",
       "\n",
       "    .dataframe thead th {\n",
       "        text-align: right;\n",
       "    }\n",
       "</style>\n",
       "<table border=\"1\" class=\"dataframe\">\n",
       "  <thead>\n",
       "    <tr style=\"text-align: right;\">\n",
       "      <th></th>\n",
       "      <th>Location</th>\n",
       "      <th>Tweet</th>\n",
       "      <th>tidy_tweet</th>\n",
       "    </tr>\n",
       "  </thead>\n",
       "  <tbody>\n",
       "    <tr>\n",
       "      <th>0</th>\n",
       "      <td>birbilling</td>\n",
       "      <td>Thank you Grand Master Jason Tan for bestowing...</td>\n",
       "      <td>Thank Grand Master Jason bestowing upon positi...</td>\n",
       "    </tr>\n",
       "    <tr>\n",
       "      <th>1</th>\n",
       "      <td>birbilling</td>\n",
       "      <td>RT @BirlandMFA: Happy Birthday to the Prime Mi...</td>\n",
       "      <td>Happy Birthday Prime Minister State Birland Pr...</td>\n",
       "    </tr>\n",
       "    <tr>\n",
       "      <th>2</th>\n",
       "      <td>birbilling</td>\n",
       "      <td>Happy Birthday to the Prime Minister of the St...</td>\n",
       "      <td>Happy Birthday Prime Minister State Birland Pr...</td>\n",
       "    </tr>\n",
       "    <tr>\n",
       "      <th>3</th>\n",
       "      <td>birbilling</td>\n",
       "      <td>@FEGnassingbe Joyeuses Paques \\nHappy Easter\\n...</td>\n",
       "      <td>Joyeuses Paques Happy Easter from #Birland htt...</td>\n",
       "    </tr>\n",
       "    <tr>\n",
       "      <th>4</th>\n",
       "      <td>birbilling</td>\n",
       "      <td>@AOuattara_PRCI Joyeuses Paques \\nHappy Easter...</td>\n",
       "      <td>Joyeuses Paques Happy Easter from #Birland htt...</td>\n",
       "    </tr>\n",
       "  </tbody>\n",
       "</table>\n",
       "</div>"
      ],
      "text/plain": [
       "     Location                                              Tweet  \\\n",
       "0  birbilling  Thank you Grand Master Jason Tan for bestowing...   \n",
       "1  birbilling  RT @BirlandMFA: Happy Birthday to the Prime Mi...   \n",
       "2  birbilling  Happy Birthday to the Prime Minister of the St...   \n",
       "3  birbilling  @FEGnassingbe Joyeuses Paques \\nHappy Easter\\n...   \n",
       "4  birbilling  @AOuattara_PRCI Joyeuses Paques \\nHappy Easter...   \n",
       "\n",
       "                                          tidy_tweet  \n",
       "0  Thank Grand Master Jason bestowing upon positi...  \n",
       "1  Happy Birthday Prime Minister State Birland Pr...  \n",
       "2  Happy Birthday Prime Minister State Birland Pr...  \n",
       "3  Joyeuses Paques Happy Easter from #Birland htt...  \n",
       "4  Joyeuses Paques Happy Easter from #Birland htt...  "
      ]
     },
     "execution_count": 9,
     "metadata": {},
     "output_type": "execute_result"
    }
   ],
   "source": [
    "train['tidy_tweet'] = np.vectorize(remove_pattern)(train['Tweet'], \"@[\\w]*\")\n",
    "train['tidy_tweet'] = train['tidy_tweet'].str.replace(\"[^a-zA-Z#]\", \" \")\n",
    "train['tidy_tweet'] = train['tidy_tweet'].apply(lambda x: ' '.join([w for w in x.split() if len(w)>3]))\n",
    "train.head()"
   ]
  },
  {
   "cell_type": "code",
   "execution_count": 10,
   "metadata": {},
   "outputs": [
    {
     "data": {
      "text/html": [
       "<div>\n",
       "<style scoped>\n",
       "    .dataframe tbody tr th:only-of-type {\n",
       "        vertical-align: middle;\n",
       "    }\n",
       "\n",
       "    .dataframe tbody tr th {\n",
       "        vertical-align: top;\n",
       "    }\n",
       "\n",
       "    .dataframe thead th {\n",
       "        text-align: right;\n",
       "    }\n",
       "</style>\n",
       "<table border=\"1\" class=\"dataframe\">\n",
       "  <thead>\n",
       "    <tr style=\"text-align: right;\">\n",
       "      <th></th>\n",
       "      <th>polarity</th>\n",
       "      <th>tweet</th>\n",
       "    </tr>\n",
       "  </thead>\n",
       "  <tbody>\n",
       "    <tr>\n",
       "      <th>0</th>\n",
       "      <td>0.25</td>\n",
       "      <td>Thank Grand Master Jason bestowing upon positi...</td>\n",
       "    </tr>\n",
       "    <tr>\n",
       "      <th>1</th>\n",
       "      <td>0.80</td>\n",
       "      <td>Happy Birthday Prime Minister State Birland Pr...</td>\n",
       "    </tr>\n",
       "    <tr>\n",
       "      <th>2</th>\n",
       "      <td>0.80</td>\n",
       "      <td>Happy Birthday Prime Minister State Birland Pr...</td>\n",
       "    </tr>\n",
       "    <tr>\n",
       "      <th>3</th>\n",
       "      <td>0.80</td>\n",
       "      <td>Joyeuses Paques Happy Easter from #Birland htt...</td>\n",
       "    </tr>\n",
       "    <tr>\n",
       "      <th>4</th>\n",
       "      <td>0.80</td>\n",
       "      <td>Joyeuses Paques Happy Easter from #Birland htt...</td>\n",
       "    </tr>\n",
       "  </tbody>\n",
       "</table>\n",
       "</div>"
      ],
      "text/plain": [
       "   polarity                                              tweet\n",
       "0      0.25  Thank Grand Master Jason bestowing upon positi...\n",
       "1      0.80  Happy Birthday Prime Minister State Birland Pr...\n",
       "2      0.80  Happy Birthday Prime Minister State Birland Pr...\n",
       "3      0.80  Joyeuses Paques Happy Easter from #Birland htt...\n",
       "4      0.80  Joyeuses Paques Happy Easter from #Birland htt..."
      ]
     },
     "execution_count": 10,
     "metadata": {},
     "output_type": "execute_result"
    }
   ],
   "source": [
    "sentiment_objects = [TextBlob(text) for text in train['tidy_tweet']]\n",
    "sentiment_objects[0].polarity, sentiment_objects[0]\n",
    "sentiment_values = [[text.sentiment.polarity, str(text)] for text in sentiment_objects]\n",
    "\n",
    "sentiment_values[0]\n",
    "data = pd.DataFrame(data=sentiment_values, columns=[\"polarity\", \"tweet\"])\n",
    "data.head()"
   ]
  },
  {
   "cell_type": "code",
   "execution_count": 11,
   "metadata": {},
   "outputs": [
    {
     "name": "stdout",
     "output_type": "stream",
     "text": [
      "     polarity                                              tweet    Location\n",
      "0        0.25  Thank Grand Master Jason bestowing upon positi...  birbilling\n",
      "1        0.80  Happy Birthday Prime Minister State Birland Pr...  birbilling\n",
      "2        0.80  Happy Birthday Prime Minister State Birland Pr...  birbilling\n",
      "3        0.80  Joyeuses Paques Happy Easter from #Birland htt...  birbilling\n",
      "4        0.80  Joyeuses Paques Happy Easter from #Birland htt...  birbilling\n",
      "..        ...                                                ...         ...\n",
      "423      0.60  Popular springs scenic views Himalayan mountai...       kasol\n",
      "424      0.60  Popular springs scenic views Himalayan mountai...       kasol\n",
      "425      0.00                        Looks like #kheerganga trek       kasol\n",
      "426      0.00  Foot over bridge #parvatiriver bridge just con...       kasol\n",
      "427      0.00  Foot over bridge #parvatiriver bridge just con...       kasol\n",
      "\n",
      "[428 rows x 3 columns]\n"
     ]
    }
   ],
   "source": [
    "data['Location']=[loc for loc in train['Location']]\n",
    "print(data)\n",
    "data.to_csv(r'C:\\Users\\Ayush Patel\\.spyder-py3\\himachalsentiment.csv')"
   ]
  },
  {
   "cell_type": "code",
   "execution_count": 12,
   "metadata": {},
   "outputs": [
    {
     "data": {
      "text/html": [
       "<div>\n",
       "<style scoped>\n",
       "    .dataframe tbody tr th:only-of-type {\n",
       "        vertical-align: middle;\n",
       "    }\n",
       "\n",
       "    .dataframe tbody tr th {\n",
       "        vertical-align: top;\n",
       "    }\n",
       "\n",
       "    .dataframe thead th {\n",
       "        text-align: right;\n",
       "    }\n",
       "</style>\n",
       "<table border=\"1\" class=\"dataframe\">\n",
       "  <thead>\n",
       "    <tr style=\"text-align: right;\">\n",
       "      <th></th>\n",
       "      <th>Unnamed: 0</th>\n",
       "      <th>polarity</th>\n",
       "      <th>tweet</th>\n",
       "      <th>Location</th>\n",
       "    </tr>\n",
       "  </thead>\n",
       "  <tbody>\n",
       "    <tr>\n",
       "      <th>0</th>\n",
       "      <td>0</td>\n",
       "      <td>0.25</td>\n",
       "      <td>Thank Grand Master Jason bestowing upon positi...</td>\n",
       "      <td>birbilling</td>\n",
       "    </tr>\n",
       "    <tr>\n",
       "      <th>1</th>\n",
       "      <td>1</td>\n",
       "      <td>0.80</td>\n",
       "      <td>Happy Birthday Prime Minister State Birland Pr...</td>\n",
       "      <td>birbilling</td>\n",
       "    </tr>\n",
       "    <tr>\n",
       "      <th>2</th>\n",
       "      <td>2</td>\n",
       "      <td>0.80</td>\n",
       "      <td>Happy Birthday Prime Minister State Birland Pr...</td>\n",
       "      <td>birbilling</td>\n",
       "    </tr>\n",
       "    <tr>\n",
       "      <th>3</th>\n",
       "      <td>3</td>\n",
       "      <td>0.80</td>\n",
       "      <td>Joyeuses Paques Happy Easter from #Birland htt...</td>\n",
       "      <td>birbilling</td>\n",
       "    </tr>\n",
       "    <tr>\n",
       "      <th>4</th>\n",
       "      <td>4</td>\n",
       "      <td>0.80</td>\n",
       "      <td>Joyeuses Paques Happy Easter from #Birland htt...</td>\n",
       "      <td>birbilling</td>\n",
       "    </tr>\n",
       "  </tbody>\n",
       "</table>\n",
       "</div>"
      ],
      "text/plain": [
       "   Unnamed: 0  polarity                                              tweet  \\\n",
       "0           0      0.25  Thank Grand Master Jason bestowing upon positi...   \n",
       "1           1      0.80  Happy Birthday Prime Minister State Birland Pr...   \n",
       "2           2      0.80  Happy Birthday Prime Minister State Birland Pr...   \n",
       "3           3      0.80  Joyeuses Paques Happy Easter from #Birland htt...   \n",
       "4           4      0.80  Joyeuses Paques Happy Easter from #Birland htt...   \n",
       "\n",
       "     Location  \n",
       "0  birbilling  \n",
       "1  birbilling  \n",
       "2  birbilling  \n",
       "3  birbilling  \n",
       "4  birbilling  "
      ]
     },
     "execution_count": 12,
     "metadata": {},
     "output_type": "execute_result"
    }
   ],
   "source": [
    "df=pd.read_csv(r'C:\\Users\\Ayush Patel\\.spyder-py3\\himachalsentiment.csv')\n",
    "df.head()"
   ]
  },
  {
   "cell_type": "code",
   "execution_count": 13,
   "metadata": {},
   "outputs": [
    {
     "data": {
      "text/html": [
       "<div>\n",
       "<style scoped>\n",
       "    .dataframe tbody tr th:only-of-type {\n",
       "        vertical-align: middle;\n",
       "    }\n",
       "\n",
       "    .dataframe tbody tr th {\n",
       "        vertical-align: top;\n",
       "    }\n",
       "\n",
       "    .dataframe thead th {\n",
       "        text-align: right;\n",
       "    }\n",
       "</style>\n",
       "<table border=\"1\" class=\"dataframe\">\n",
       "  <thead>\n",
       "    <tr style=\"text-align: right;\">\n",
       "      <th></th>\n",
       "      <th>Unnamed: 0</th>\n",
       "      <th>polarity</th>\n",
       "      <th>tweet</th>\n",
       "      <th>Location</th>\n",
       "    </tr>\n",
       "  </thead>\n",
       "  <tbody>\n",
       "    <tr>\n",
       "      <th>0</th>\n",
       "      <td>0</td>\n",
       "      <td>0.25</td>\n",
       "      <td>Thank Grand Master Jason bestowing upon positi...</td>\n",
       "      <td>birbilling</td>\n",
       "    </tr>\n",
       "    <tr>\n",
       "      <th>1</th>\n",
       "      <td>1</td>\n",
       "      <td>0.80</td>\n",
       "      <td>Happy Birthday Prime Minister State Birland Pr...</td>\n",
       "      <td>birbilling</td>\n",
       "    </tr>\n",
       "    <tr>\n",
       "      <th>2</th>\n",
       "      <td>2</td>\n",
       "      <td>0.80</td>\n",
       "      <td>Happy Birthday Prime Minister State Birland Pr...</td>\n",
       "      <td>birbilling</td>\n",
       "    </tr>\n",
       "    <tr>\n",
       "      <th>3</th>\n",
       "      <td>3</td>\n",
       "      <td>0.80</td>\n",
       "      <td>Joyeuses Paques Happy Easter from #Birland htt...</td>\n",
       "      <td>birbilling</td>\n",
       "    </tr>\n",
       "    <tr>\n",
       "      <th>4</th>\n",
       "      <td>4</td>\n",
       "      <td>0.80</td>\n",
       "      <td>Joyeuses Paques Happy Easter from #Birland htt...</td>\n",
       "      <td>birbilling</td>\n",
       "    </tr>\n",
       "  </tbody>\n",
       "</table>\n",
       "</div>"
      ],
      "text/plain": [
       "   Unnamed: 0  polarity                                              tweet  \\\n",
       "0           0      0.25  Thank Grand Master Jason bestowing upon positi...   \n",
       "1           1      0.80  Happy Birthday Prime Minister State Birland Pr...   \n",
       "2           2      0.80  Happy Birthday Prime Minister State Birland Pr...   \n",
       "3           3      0.80  Joyeuses Paques Happy Easter from #Birland htt...   \n",
       "4           4      0.80  Joyeuses Paques Happy Easter from #Birland htt...   \n",
       "\n",
       "     Location  \n",
       "0  birbilling  \n",
       "1  birbilling  \n",
       "2  birbilling  \n",
       "3  birbilling  \n",
       "4  birbilling  "
      ]
     },
     "execution_count": 13,
     "metadata": {},
     "output_type": "execute_result"
    }
   ],
   "source": [
    "df1=df[df['polarity']>=0]\n",
    "df1.head()"
   ]
  },
  {
   "cell_type": "code",
   "execution_count": 14,
   "metadata": {},
   "outputs": [
    {
     "data": {
      "text/plain": [
       "0        0\n",
       "1        1\n",
       "2        2\n",
       "3        3\n",
       "4        4\n",
       "      ... \n",
       "423    423\n",
       "424    424\n",
       "425    425\n",
       "426    426\n",
       "427    427\n",
       "Name: Unnamed: 0, Length: 428, dtype: int64"
      ]
     },
     "execution_count": 14,
     "metadata": {},
     "output_type": "execute_result"
    }
   ],
   "source": [
    "df.pop('Unnamed: 0')"
   ]
  },
  {
   "cell_type": "code",
   "execution_count": 15,
   "metadata": {},
   "outputs": [
    {
     "data": {
      "text/html": [
       "<div>\n",
       "<style scoped>\n",
       "    .dataframe tbody tr th:only-of-type {\n",
       "        vertical-align: middle;\n",
       "    }\n",
       "\n",
       "    .dataframe tbody tr th {\n",
       "        vertical-align: top;\n",
       "    }\n",
       "\n",
       "    .dataframe thead th {\n",
       "        text-align: right;\n",
       "    }\n",
       "</style>\n",
       "<table border=\"1\" class=\"dataframe\">\n",
       "  <thead>\n",
       "    <tr style=\"text-align: right;\">\n",
       "      <th></th>\n",
       "      <th>polarity</th>\n",
       "      <th>tweet</th>\n",
       "      <th>Location</th>\n",
       "    </tr>\n",
       "  </thead>\n",
       "  <tbody>\n",
       "    <tr>\n",
       "      <th>0</th>\n",
       "      <td>0.25</td>\n",
       "      <td>Thank Grand Master Jason bestowing upon positi...</td>\n",
       "      <td>birbilling</td>\n",
       "    </tr>\n",
       "    <tr>\n",
       "      <th>1</th>\n",
       "      <td>0.80</td>\n",
       "      <td>Happy Birthday Prime Minister State Birland Pr...</td>\n",
       "      <td>birbilling</td>\n",
       "    </tr>\n",
       "    <tr>\n",
       "      <th>2</th>\n",
       "      <td>0.80</td>\n",
       "      <td>Happy Birthday Prime Minister State Birland Pr...</td>\n",
       "      <td>birbilling</td>\n",
       "    </tr>\n",
       "    <tr>\n",
       "      <th>3</th>\n",
       "      <td>0.80</td>\n",
       "      <td>Joyeuses Paques Happy Easter from #Birland htt...</td>\n",
       "      <td>birbilling</td>\n",
       "    </tr>\n",
       "    <tr>\n",
       "      <th>4</th>\n",
       "      <td>0.80</td>\n",
       "      <td>Joyeuses Paques Happy Easter from #Birland htt...</td>\n",
       "      <td>birbilling</td>\n",
       "    </tr>\n",
       "    <tr>\n",
       "      <th>...</th>\n",
       "      <td>...</td>\n",
       "      <td>...</td>\n",
       "      <td>...</td>\n",
       "    </tr>\n",
       "    <tr>\n",
       "      <th>423</th>\n",
       "      <td>0.60</td>\n",
       "      <td>Popular springs scenic views Himalayan mountai...</td>\n",
       "      <td>kasol</td>\n",
       "    </tr>\n",
       "    <tr>\n",
       "      <th>424</th>\n",
       "      <td>0.60</td>\n",
       "      <td>Popular springs scenic views Himalayan mountai...</td>\n",
       "      <td>kasol</td>\n",
       "    </tr>\n",
       "    <tr>\n",
       "      <th>425</th>\n",
       "      <td>0.00</td>\n",
       "      <td>Looks like #kheerganga trek</td>\n",
       "      <td>kasol</td>\n",
       "    </tr>\n",
       "    <tr>\n",
       "      <th>426</th>\n",
       "      <td>0.00</td>\n",
       "      <td>Foot over bridge #parvatiriver bridge just con...</td>\n",
       "      <td>kasol</td>\n",
       "    </tr>\n",
       "    <tr>\n",
       "      <th>427</th>\n",
       "      <td>0.00</td>\n",
       "      <td>Foot over bridge #parvatiriver bridge just con...</td>\n",
       "      <td>kasol</td>\n",
       "    </tr>\n",
       "  </tbody>\n",
       "</table>\n",
       "<p>428 rows × 3 columns</p>\n",
       "</div>"
      ],
      "text/plain": [
       "     polarity                                              tweet    Location\n",
       "0        0.25  Thank Grand Master Jason bestowing upon positi...  birbilling\n",
       "1        0.80  Happy Birthday Prime Minister State Birland Pr...  birbilling\n",
       "2        0.80  Happy Birthday Prime Minister State Birland Pr...  birbilling\n",
       "3        0.80  Joyeuses Paques Happy Easter from #Birland htt...  birbilling\n",
       "4        0.80  Joyeuses Paques Happy Easter from #Birland htt...  birbilling\n",
       "..        ...                                                ...         ...\n",
       "423      0.60  Popular springs scenic views Himalayan mountai...       kasol\n",
       "424      0.60  Popular springs scenic views Himalayan mountai...       kasol\n",
       "425      0.00                        Looks like #kheerganga trek       kasol\n",
       "426      0.00  Foot over bridge #parvatiriver bridge just con...       kasol\n",
       "427      0.00  Foot over bridge #parvatiriver bridge just con...       kasol\n",
       "\n",
       "[428 rows x 3 columns]"
      ]
     },
     "execution_count": 15,
     "metadata": {},
     "output_type": "execute_result"
    }
   ],
   "source": [
    "df"
   ]
  },
  {
   "cell_type": "code",
   "execution_count": 16,
   "metadata": {},
   "outputs": [
    {
     "data": {
      "text/plain": [
       "Text(0.5, 1.0, 'Percentage of tweet on specific location')"
      ]
     },
     "execution_count": 16,
     "metadata": {},
     "output_type": "execute_result"
    },
    {
     "data": {
      "image/png": "[encoded data removed]",
      "text/plain": [
       "<Figure size 720x504 with 1 Axes>"
      ]
     },
     "metadata": {},
     "output_type": "display_data"
    }
   ],
   "source": [
    "df1['Location'].value_counts().plot(kind='pie', fontsize=14, autopct='%3.1f%%', \n",
    "                                               figsize=(10,7), shadow=True, startangle=135, legend=True, cmap='Oranges')\n",
    "\n",
    "\n",
    "plt.title('Percentage of tweet on specific location')"
   ]
  },
  {
   "cell_type": "code",
   "execution_count": 17,
   "metadata": {},
   "outputs": [
    {
     "data": {
      "image/png": "[encoded data removed]",
      "text/plain": [
       "<Figure size 1296x720 with 1 Axes>"
      ]
     },
     "metadata": {
      "needs_background": "light"
     },
     "output_type": "display_data"
    }
   ],
   "source": [
    "plt.figure(figsize = (18,10))\n",
    "sns.countplot(x='Location',data=df, palette='cool')\n",
    "plt.title(\"Himachal Pradesh \",fontsize=20)\n",
    "plt.xticks(rotation=50)\n",
    "plt.xlabel(\"Places\",fontsize=15)\n",
    "plt.ylabel(\"No of Tweet\",fontsize=15)\n",
    "plt.show()"
   ]
  },
  {
   "cell_type": "code",
   "execution_count": 18,
   "metadata": {},
   "outputs": [
    {
     "name": "stderr",
     "output_type": "stream",
     "text": [
      "D:\\anaconda\\lib\\site-packages\\seaborn\\_decorators.py:36: FutureWarning: Pass the following variable as a keyword arg: x. From version 0.12, the only valid positional argument will be `data`, and passing other arguments without an explicit keyword will result in an error or misinterpretation.\n",
      "  warnings.warn(\n"
     ]
    },
    {
     "data": {
      "text/plain": [
       "(array([  0.,  20.,  40.,  60.,  80., 100., 120.]),\n",
       " [Text(0, 0, ''),\n",
       "  Text(0, 0, ''),\n",
       "  Text(0, 0, ''),\n",
       "  Text(0, 0, ''),\n",
       "  Text(0, 0, ''),\n",
       "  Text(0, 0, ''),\n",
       "  Text(0, 0, '')])"
      ]
     },
     "execution_count": 18,
     "metadata": {},
     "output_type": "execute_result"
    },
    {
     "data": {
      "image/png": "[encoded data removed]",
      "text/plain": [
       "<Figure size 1080x360 with 1 Axes>"
      ]
     },
     "metadata": {
      "needs_background": "light"
     },
     "output_type": "display_data"
    }
   ],
   "source": [
    "plt.figure(figsize=(15,5))\n",
    "sns.countplot('Location', data = df)\n",
    "plt.title(\"Number of Tweet on specific location\",fontsize=18,fontweight=\"bold\")\n",
    "plt.ylabel(\"Tweet\", size = 25)\n",
    "plt.xlabel(\"Places\", size = 25)\n",
    "plt.xticks(size = 20)\n",
    "plt.yticks(size = 20)\n"
   ]
  },
  {
   "cell_type": "code",
   "execution_count": null,
   "metadata": {},
   "outputs": [],
   "source": []
  }
 ],
 "metadata": {
  "kernelspec": {
   "display_name": "Python 3",
   "language": "python",
   "name": "python3"
  },
  "language_info": {
   "codemirror_mode": {
    "name": "ipython",
    "version": 3
   },
   "file_extension": ".py",
   "mimetype": "text/x-python",
   "name": "python",
   "nbconvert_exporter": "python",
   "pygments_lexer": "ipython3",
   "version": "3.8.5"
  }
 },
 "nbformat": 4,
 "nbformat_minor": 4
}
